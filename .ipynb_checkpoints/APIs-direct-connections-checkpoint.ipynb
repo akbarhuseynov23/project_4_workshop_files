{
 "cells": [
  {
   "cell_type": "markdown",
   "id": "6868eecc-6fa6-469c-b2cc-4e99c9715e6e",
   "metadata": {},
   "source": [
    "# Connecting to APIs\n",
    "\n",
    "## Open Weather Map API"
   ]
  },
  {
   "cell_type": "code",
   "execution_count": 24,
   "id": "eaa7474f-b277-4741-9c3d-cbdc3960c870",
   "metadata": {},
   "outputs": [
    {
     "data": {
      "text/plain": [
       "'http://api.openweathermap.org/data/2.5/forecast/?q=Berlin,DE&appid=0c87854d706efc6d2ef016fb03918d7a&units=metric&lang=en'"
      ]
     },
     "execution_count": 24,
     "metadata": {},
     "output_type": "execute_result"
    }
   ],
   "source": [
    "OWM_key = \"0c87854d706efc6d2ef016fb03918d7a\"\n",
    "city = \"Berlin\"\n",
    "country = \"DE\"\n",
    "f'http://api.openweathermap.org/data/2.5/forecast/?q={city},{country}&appid={OWM_key}&units=metric&lang=en'"
   ]
  },
  {
   "cell_type": "code",
   "execution_count": 25,
   "id": "f7e107f9-b606-4f62-a2b2-ae7e81ff99d7",
   "metadata": {},
   "outputs": [
    {
     "data": {
      "text/plain": [
       "'Name:Joan, age: 58'"
      ]
     },
     "execution_count": 25,
     "metadata": {},
     "output_type": "execute_result"
    }
   ],
   "source": [
    "age = 58\n",
    "name = \"Joan\"\n",
    "f\"Name:{name}, age: {age}\""
   ]
  },
  {
   "cell_type": "code",
   "execution_count": 26,
   "id": "bcc69b5d-1950-463b-9c48-d3fb2eff55c3",
   "metadata": {},
   "outputs": [
    {
     "data": {
      "text/plain": [
       "'http://api.openweathermap.org/data/2.5/weather?q=Berlin,DE&appid=0c87854d706efc6d2ef016fb03918d7a'"
      ]
     },
     "execution_count": 26,
     "metadata": {},
     "output_type": "execute_result"
    }
   ],
   "source": [
    "f\"http://api.openweathermap.org/data/2.5/weather?q={city},{country}&appid={OWM_key}\""
   ]
  },
  {
   "cell_type": "code",
   "execution_count": 27,
   "id": "89edc17d-58c8-4ef9-83f8-ea5f0dea6907",
   "metadata": {},
   "outputs": [
    {
     "data": {
      "application/json": {
       "city": {
        "coord": {
         "lat": 52.5244,
         "lon": 13.4105
        },
        "country": "DE",
        "id": 2950159,
        "name": "Berlin",
        "population": 1000000,
        "sunrise": 1637736235,
        "sunset": 1637766156,
        "timezone": 3600
       },
       "cnt": 40,
       "cod": "200",
       "list": [
        {
         "clouds": {
          "all": 83
         },
         "dt": 1637766000,
         "dt_txt": "2021-11-24 15:00:00",
         "main": {
          "feels_like": 6.25,
          "grnd_level": 1015,
          "humidity": 86,
          "pressure": 1015,
          "sea_level": 1015,
          "temp": 7.41,
          "temp_kf": 0.45,
          "temp_max": 7.41,
          "temp_min": 6.96
         },
         "pop": 0,
         "sys": {
          "pod": "d"
         },
         "visibility": 10000,
         "weather": [
          {
           "description": "broken clouds",
           "icon": "04d",
           "id": 803,
           "main": "Clouds"
          }
         ],
         "wind": {
          "deg": 210,
          "gust": 3.71,
          "speed": 1.92
         }
        },
        {
         "clouds": {
          "all": 92
         },
         "dt": 1637776800,
         "dt_txt": "2021-11-24 18:00:00",
         "main": {
          "feels_like": 5.93,
          "grnd_level": 1013,
          "humidity": 79,
          "pressure": 1017,
          "sea_level": 1017,
          "temp": 7.12,
          "temp_kf": 0.26,
          "temp_max": 7.12,
          "temp_min": 6.86
         },
         "pop": 0,
         "sys": {
          "pod": "n"
         },
         "visibility": 10000,
         "weather": [
          {
           "description": "overcast clouds",
           "icon": "04n",
           "id": 804,
           "main": "Clouds"
          }
         ],
         "wind": {
          "deg": 195,
          "gust": 3.48,
          "speed": 1.9
         }
        },
        {
         "clouds": {
          "all": 93
         },
         "dt": 1637787600,
         "dt_txt": "2021-11-24 21:00:00",
         "main": {
          "feels_like": 4.71,
          "grnd_level": 1012,
          "humidity": 73,
          "pressure": 1017,
          "sea_level": 1017,
          "temp": 6.15,
          "temp_kf": 0,
          "temp_max": 6.15,
          "temp_min": 6.15
         },
         "pop": 0,
         "sys": {
          "pod": "n"
         },
         "visibility": 10000,
         "weather": [
          {
           "description": "overcast clouds",
           "icon": "04n",
           "id": 804,
           "main": "Clouds"
          }
         ],
         "wind": {
          "deg": 176,
          "gust": 4.38,
          "speed": 2
         }
        },
        {
         "clouds": {
          "all": 56
         },
         "dt": 1637798400,
         "dt_txt": "2021-11-25 00:00:00",
         "main": {
          "feels_like": 1.88,
          "grnd_level": 1009,
          "humidity": 78,
          "pressure": 1015,
          "sea_level": 1015,
          "temp": 4.16,
          "temp_kf": 0,
          "temp_max": 4.16,
          "temp_min": 4.16
         },
         "pop": 0,
         "sys": {
          "pod": "n"
         },
         "visibility": 10000,
         "weather": [
          {
           "description": "broken clouds",
           "icon": "04n",
           "id": 803,
           "main": "Clouds"
          }
         ],
         "wind": {
          "deg": 156,
          "gust": 6.89,
          "speed": 2.53
         }
        },
        {
         "clouds": {
          "all": 21
         },
         "dt": 1637809200,
         "dt_txt": "2021-11-25 03:00:00",
         "main": {
          "feels_like": 0.13,
          "grnd_level": 1007,
          "humidity": 83,
          "pressure": 1012,
          "sea_level": 1012,
          "temp": 2.78,
          "temp_kf": 0,
          "temp_max": 2.78,
          "temp_min": 2.78
         },
         "pop": 0,
         "sys": {
          "pod": "n"
         },
         "visibility": 10000,
         "weather": [
          {
           "description": "few clouds",
           "icon": "02n",
           "id": 801,
           "main": "Clouds"
          }
         ],
         "wind": {
          "deg": 149,
          "gust": 6.33,
          "speed": 2.65
         }
        },
        {
         "clouds": {
          "all": 12
         },
         "dt": 1637820000,
         "dt_txt": "2021-11-25 06:00:00",
         "main": {
          "feels_like": -0.96,
          "grnd_level": 1005,
          "humidity": 84,
          "pressure": 1010,
          "sea_level": 1010,
          "temp": 1.66,
          "temp_kf": 0,
          "temp_max": 1.66,
          "temp_min": 1.66
         },
         "pop": 0,
         "sys": {
          "pod": "n"
         },
         "visibility": 10000,
         "weather": [
          {
           "description": "few clouds",
           "icon": "02n",
           "id": 801,
           "main": "Clouds"
          }
         ],
         "wind": {
          "deg": 170,
          "gust": 5.06,
          "speed": 2.4
         }
        },
        {
         "clouds": {
          "all": 24
         },
         "dt": 1637830800,
         "dt_txt": "2021-11-25 09:00:00",
         "main": {
          "feels_like": -0.17,
          "grnd_level": 1003,
          "humidity": 76,
          "pressure": 1008,
          "sea_level": 1008,
          "temp": 2.75,
          "temp_kf": 0,
          "temp_max": 2.75,
          "temp_min": 2.75
         },
         "pop": 0,
         "sys": {
          "pod": "d"
         },
         "visibility": 10000,
         "weather": [
          {
           "description": "few clouds",
           "icon": "02d",
           "id": 801,
           "main": "Clouds"
          }
         ],
         "wind": {
          "deg": 221,
          "gust": 5.2,
          "speed": 2.97
         }
        },
        {
         "clouds": {
          "all": 15
         },
         "dt": 1637841600,
         "dt_txt": "2021-11-25 12:00:00",
         "main": {
          "feels_like": 2.2,
          "grnd_level": 1001,
          "humidity": 70,
          "pressure": 1006,
          "sea_level": 1006,
          "temp": 5.27,
          "temp_kf": 0,
          "temp_max": 5.27,
          "temp_min": 5.27
         },
         "pop": 0,
         "sys": {
          "pod": "d"
         },
         "visibility": 10000,
         "weather": [
          {
           "description": "few clouds",
           "icon": "02d",
           "id": 801,
           "main": "Clouds"
          }
         ],
         "wind": {
          "deg": 250,
          "gust": 6.88,
          "speed": 3.99
         }
        },
        {
         "clouds": {
          "all": 20
         },
         "dt": 1637852400,
         "dt_txt": "2021-11-25 15:00:00",
         "main": {
          "feels_like": 1.46,
          "grnd_level": 1000,
          "humidity": 78,
          "pressure": 1005,
          "sea_level": 1005,
          "temp": 4.77,
          "temp_kf": 0,
          "temp_max": 4.77,
          "temp_min": 4.77
         },
         "pop": 0,
         "sys": {
          "pod": "d"
         },
         "visibility": 10000,
         "weather": [
          {
           "description": "few clouds",
           "icon": "02d",
           "id": 801,
           "main": "Clouds"
          }
         ],
         "wind": {
          "deg": 247,
          "gust": 9.5,
          "speed": 4.21
         }
        },
        {
         "clouds": {
          "all": 60
         },
         "dt": 1637863200,
         "dt_txt": "2021-11-25 18:00:00",
         "main": {
          "feels_like": 0.91,
          "grnd_level": 1000,
          "humidity": 86,
          "pressure": 1006,
          "sea_level": 1006,
          "temp": 4.58,
          "temp_kf": 0,
          "temp_max": 4.58,
          "temp_min": 4.58
         },
         "pop": 0,
         "sys": {
          "pod": "n"
         },
         "visibility": 10000,
         "weather": [
          {
           "description": "broken clouds",
           "icon": "04n",
           "id": 803,
           "main": "Clouds"
          }
         ],
         "wind": {
          "deg": 250,
          "gust": 11.02,
          "speed": 4.81
         }
        },
        {
         "clouds": {
          "all": 53
         },
         "dt": 1637874000,
         "dt_txt": "2021-11-25 21:00:00",
         "main": {
          "feels_like": -0.43,
          "grnd_level": 1000,
          "humidity": 86,
          "pressure": 1005,
          "sea_level": 1005,
          "temp": 3.66,
          "temp_kf": 0,
          "temp_max": 3.66,
          "temp_min": 3.66
         },
         "pop": 0,
         "sys": {
          "pod": "n"
         },
         "visibility": 10000,
         "weather": [
          {
           "description": "broken clouds",
           "icon": "04n",
           "id": 803,
           "main": "Clouds"
          }
         ],
         "wind": {
          "deg": 244,
          "gust": 12.4,
          "speed": 5.19
         }
        },
        {
         "clouds": {
          "all": 32
         },
         "dt": 1637884800,
         "dt_txt": "2021-11-26 00:00:00",
         "main": {
          "feels_like": -1.21,
          "grnd_level": 999,
          "humidity": 87,
          "pressure": 1005,
          "sea_level": 1005,
          "temp": 2.75,
          "temp_kf": 0,
          "temp_max": 2.75,
          "temp_min": 2.75
         },
         "pop": 0,
         "sys": {
          "pod": "n"
         },
         "visibility": 10000,
         "weather": [
          {
           "description": "scattered clouds",
           "icon": "03n",
           "id": 802,
           "main": "Clouds"
          }
         ],
         "wind": {
          "deg": 250,
          "gust": 10.34,
          "speed": 4.51
         }
        },
        {
         "clouds": {
          "all": 44
         },
         "dt": 1637895600,
         "dt_txt": "2021-11-26 03:00:00",
         "main": {
          "feels_like": -1.68,
          "grnd_level": 998,
          "humidity": 89,
          "pressure": 1004,
          "sea_level": 1004,
          "temp": 2.01,
          "temp_kf": 0,
          "temp_max": 2.01,
          "temp_min": 2.01
         },
         "pop": 0,
         "sys": {
          "pod": "n"
         },
         "visibility": 10000,
         "weather": [
          {
           "description": "scattered clouds",
           "icon": "03n",
           "id": 802,
           "main": "Clouds"
          }
         ],
         "wind": {
          "deg": 248,
          "gust": 10.28,
          "speed": 3.8
         }
        },
        {
         "clouds": {
          "all": 72
         },
         "dt": 1637906400,
         "dt_txt": "2021-11-26 06:00:00",
         "main": {
          "feels_like": -1.88,
          "grnd_level": 997,
          "humidity": 88,
          "pressure": 1002,
          "sea_level": 1002,
          "temp": 1.55,
          "temp_kf": 0,
          "temp_max": 1.55,
          "temp_min": 1.55
         },
         "pop": 0,
         "sys": {
          "pod": "n"
         },
         "visibility": 10000,
         "weather": [
          {
           "description": "broken clouds",
           "icon": "04n",
           "id": 803,
           "main": "Clouds"
          }
         ],
         "wind": {
          "deg": 228,
          "gust": 8.26,
          "speed": 3.3
         }
        },
        {
         "clouds": {
          "all": 100
         },
         "dt": 1637917200,
         "dt_txt": "2021-11-26 09:00:00",
         "main": {
          "feels_like": -0.39,
          "grnd_level": 996,
          "humidity": 79,
          "pressure": 1002,
          "sea_level": 1002,
          "temp": 2.77,
          "temp_kf": 0,
          "temp_max": 2.77,
          "temp_min": 2.77
         },
         "pop": 0,
         "sys": {
          "pod": "d"
         },
         "visibility": 10000,
         "weather": [
          {
           "description": "overcast clouds",
           "icon": "04d",
           "id": 804,
           "main": "Clouds"
          }
         ],
         "wind": {
          "deg": 237,
          "gust": 7.52,
          "speed": 3.28
         }
        },
        {
         "clouds": {
          "all": 100
         },
         "dt": 1637928000,
         "dt_txt": "2021-11-26 12:00:00",
         "main": {
          "feels_like": 1.56,
          "grnd_level": 995,
          "humidity": 69,
          "pressure": 1000,
          "sea_level": 1000,
          "temp": 4.39,
          "temp_kf": 0,
          "temp_max": 4.39,
          "temp_min": 4.39
         },
         "pop": 0,
         "sys": {
          "pod": "d"
         },
         "visibility": 10000,
         "weather": [
          {
           "description": "overcast clouds",
           "icon": "04d",
           "id": 804,
           "main": "Clouds"
          }
         ],
         "wind": {
          "deg": 218,
          "gust": 5.1,
          "speed": 3.29
         }
        },
        {
         "clouds": {
          "all": 100
         },
         "dt": 1637938800,
         "dt_txt": "2021-11-26 15:00:00",
         "main": {
          "feels_like": 0.95,
          "grnd_level": 993,
          "humidity": 74,
          "pressure": 998,
          "sea_level": 998,
          "temp": 3.65,
          "temp_kf": 0,
          "temp_max": 3.65,
          "temp_min": 3.65
         },
         "pop": 0,
         "sys": {
          "pod": "d"
         },
         "visibility": 10000,
         "weather": [
          {
           "description": "overcast clouds",
           "icon": "04d",
           "id": 804,
           "main": "Clouds"
          }
         ],
         "wind": {
          "deg": 191,
          "gust": 5.88,
          "speed": 2.91
         }
        },
        {
         "clouds": {
          "all": 100
         },
         "dt": 1637949600,
         "dt_txt": "2021-11-26 18:00:00",
         "main": {
          "feels_like": -0.13,
          "grnd_level": 992,
          "humidity": 79,
          "pressure": 997,
          "sea_level": 997,
          "temp": 2.76,
          "temp_kf": 0,
          "temp_max": 2.76,
          "temp_min": 2.76
         },
         "pop": 0,
         "sys": {
          "pod": "n"
         },
         "visibility": 10000,
         "weather": [
          {
           "description": "overcast clouds",
           "icon": "04n",
           "id": 804,
           "main": "Clouds"
          }
         ],
         "wind": {
          "deg": 180,
          "gust": 7.34,
          "speed": 2.93
         }
        },
        {
         "clouds": {
          "all": 100
         },
         "dt": 1637960400,
         "dt_txt": "2021-11-26 21:00:00",
         "main": {
          "feels_like": -0.26,
          "grnd_level": 991,
          "humidity": 76,
          "pressure": 997,
          "sea_level": 997,
          "temp": 2.68,
          "temp_kf": 0,
          "temp_max": 2.68,
          "temp_min": 2.68
         },
         "pop": 0,
         "sys": {
          "pod": "n"
         },
         "visibility": 10000,
         "weather": [
          {
           "description": "overcast clouds",
           "icon": "04n",
           "id": 804,
           "main": "Clouds"
          }
         ],
         "wind": {
          "deg": 165,
          "gust": 7.15,
          "speed": 2.97
         }
        },
        {
         "clouds": {
          "all": 100
         },
         "dt": 1637971200,
         "dt_txt": "2021-11-27 00:00:00",
         "main": {
          "feels_like": -1.31,
          "grnd_level": 990,
          "humidity": 73,
          "pressure": 995,
          "sea_level": 995,
          "temp": 1.84,
          "temp_kf": 0,
          "temp_max": 1.84,
          "temp_min": 1.84
         },
         "pop": 0,
         "sys": {
          "pod": "n"
         },
         "visibility": 10000,
         "weather": [
          {
           "description": "overcast clouds",
           "icon": "04n",
           "id": 804,
           "main": "Clouds"
          }
         ],
         "wind": {
          "deg": 154,
          "gust": 6.39,
          "speed": 3.03
         }
        },
        {
         "clouds": {
          "all": 85
         },
         "dt": 1637982000,
         "dt_txt": "2021-11-27 03:00:00",
         "main": {
          "feels_like": -2.98,
          "grnd_level": 989,
          "humidity": 74,
          "pressure": 994,
          "sea_level": 994,
          "temp": 0.45,
          "temp_kf": 0,
          "temp_max": 0.45,
          "temp_min": 0.45
         },
         "pop": 0,
         "sys": {
          "pod": "n"
         },
         "visibility": 10000,
         "weather": [
          {
           "description": "overcast clouds",
           "icon": "04n",
           "id": 804,
           "main": "Clouds"
          }
         ],
         "wind": {
          "deg": 154,
          "gust": 7.52,
          "speed": 3.02
         }
        },
        {
         "clouds": {
          "all": 52
         },
         "dt": 1637992800,
         "dt_txt": "2021-11-27 06:00:00",
         "main": {
          "feels_like": -3.73,
          "grnd_level": 989,
          "humidity": 79,
          "pressure": 994,
          "sea_level": 994,
          "temp": -0.07,
          "temp_kf": 0,
          "temp_max": -0.07,
          "temp_min": -0.07
         },
         "pop": 0,
         "sys": {
          "pod": "n"
         },
         "visibility": 10000,
         "weather": [
          {
           "description": "broken clouds",
           "icon": "04n",
           "id": 803,
           "main": "Clouds"
          }
         ],
         "wind": {
          "deg": 137,
          "gust": 7.8,
          "speed": 3.17
         }
        },
        {
         "clouds": {
          "all": 19
         },
         "dt": 1638003600,
         "dt_txt": "2021-11-27 09:00:00",
         "main": {
          "feels_like": -1.96,
          "grnd_level": 989,
          "humidity": 72,
          "pressure": 994,
          "sea_level": 994,
          "temp": 1.66,
          "temp_kf": 0,
          "temp_max": 1.66,
          "temp_min": 1.66
         },
         "pop": 0,
         "sys": {
          "pod": "d"
         },
         "visibility": 10000,
         "weather": [
          {
           "description": "few clouds",
           "icon": "02d",
           "id": 801,
           "main": "Clouds"
          }
         ],
         "wind": {
          "deg": 134,
          "gust": 7.27,
          "speed": 3.59
         }
        },
        {
         "clouds": {
          "all": 43
         },
         "dt": 1638014400,
         "dt_txt": "2021-11-27 12:00:00",
         "main": {
          "feels_like": 1.06,
          "grnd_level": 988,
          "humidity": 57,
          "pressure": 994,
          "sea_level": 994,
          "temp": 4.28,
          "temp_kf": 0,
          "temp_max": 4.28,
          "temp_min": 4.28
         },
         "pop": 0,
         "sys": {
          "pod": "d"
         },
         "visibility": 10000,
         "weather": [
          {
           "description": "scattered clouds",
           "icon": "03d",
           "id": 802,
           "main": "Clouds"
          }
         ],
         "wind": {
          "deg": 128,
          "gust": 6.52,
          "speed": 3.85
         }
        },
        {
         "clouds": {
          "all": 65
         },
         "dt": 1638025200,
         "dt_txt": "2021-11-27 15:00:00",
         "main": {
          "feels_like": -0.21,
          "grnd_level": 989,
          "humidity": 67,
          "pressure": 994,
          "sea_level": 994,
          "temp": 3.05,
          "temp_kf": 0,
          "temp_max": 3.05,
          "temp_min": 3.05
         },
         "pop": 0,
         "sys": {
          "pod": "n"
         },
         "visibility": 10000,
         "weather": [
          {
           "description": "broken clouds",
           "icon": "04n",
           "id": 803,
           "main": "Clouds"
          }
         ],
         "wind": {
          "deg": 123,
          "gust": 8.03,
          "speed": 3.5
         }
        },
        {
         "clouds": {
          "all": 76
         },
         "dt": 1638036000,
         "dt_txt": "2021-11-27 18:00:00",
         "main": {
          "feels_like": -1.8,
          "grnd_level": 990,
          "humidity": 76,
          "pressure": 996,
          "sea_level": 996,
          "temp": 1.67,
          "temp_kf": 0,
          "temp_max": 1.67,
          "temp_min": 1.67
         },
         "pop": 0,
         "sys": {
          "pod": "n"
         },
         "visibility": 10000,
         "weather": [
          {
           "description": "broken clouds",
           "icon": "04n",
           "id": 803,
           "main": "Clouds"
          }
         ],
         "wind": {
          "deg": 116,
          "gust": 8.22,
          "speed": 3.39
         }
        },
        {
         "clouds": {
          "all": 84
         },
         "dt": 1638046800,
         "dt_txt": "2021-11-27 21:00:00",
         "main": {
          "feels_like": -2.08,
          "grnd_level": 992,
          "humidity": 78,
          "pressure": 997,
          "sea_level": 997,
          "temp": 1.21,
          "temp_kf": 0,
          "temp_max": 1.21,
          "temp_min": 1.21
         },
         "pop": 0,
         "sys": {
          "pod": "n"
         },
         "visibility": 10000,
         "weather": [
          {
           "description": "broken clouds",
           "icon": "04n",
           "id": 803,
           "main": "Clouds"
          }
         ],
         "wind": {
          "deg": 113,
          "gust": 6.47,
          "speed": 3.04
         }
        },
        {
         "clouds": {
          "all": 92
         },
         "dt": 1638057600,
         "dt_txt": "2021-11-28 00:00:00",
         "main": {
          "feels_like": -1.78,
          "grnd_level": 992,
          "humidity": 79,
          "pressure": 998,
          "sea_level": 998,
          "temp": 0.79,
          "temp_kf": 0,
          "temp_max": 0.79,
          "temp_min": 0.79
         },
         "pop": 0,
         "sys": {
          "pod": "n"
         },
         "visibility": 10000,
         "weather": [
          {
           "description": "overcast clouds",
           "icon": "04n",
           "id": 804,
           "main": "Clouds"
          }
         ],
         "wind": {
          "deg": 125,
          "gust": 4.68,
          "speed": 2.21
         }
        },
        {
         "clouds": {
          "all": 95
         },
         "dt": 1638068400,
         "dt_txt": "2021-11-28 03:00:00",
         "main": {
          "feels_like": -2.56,
          "grnd_level": 993,
          "humidity": 81,
          "pressure": 999,
          "sea_level": 999,
          "temp": 0.51,
          "temp_kf": 0,
          "temp_max": 0.51,
          "temp_min": 0.51
         },
         "pop": 0,
         "sys": {
          "pod": "n"
         },
         "visibility": 10000,
         "weather": [
          {
           "description": "overcast clouds",
           "icon": "04n",
           "id": 804,
           "main": "Clouds"
          }
         ],
         "wind": {
          "deg": 118,
          "gust": 6.2,
          "speed": 2.64
         }
        },
        {
         "clouds": {
          "all": 97
         },
         "dt": 1638079200,
         "dt_txt": "2021-11-28 06:00:00",
         "main": {
          "feels_like": -2.35,
          "grnd_level": 994,
          "humidity": 83,
          "pressure": 1000,
          "sea_level": 1000,
          "temp": 0.47,
          "temp_kf": 0,
          "temp_max": 0.47,
          "temp_min": 0.47
         },
         "pop": 0,
         "sys": {
          "pod": "n"
         },
         "visibility": 10000,
         "weather": [
          {
           "description": "overcast clouds",
           "icon": "04n",
           "id": 804,
           "main": "Clouds"
          }
         ],
         "wind": {
          "deg": 90,
          "gust": 5.59,
          "speed": 2.39
         }
        },
        {
         "clouds": {
          "all": 100
         },
         "dt": 1638090000,
         "dt_txt": "2021-11-28 09:00:00",
         "main": {
          "feels_like": -1.74,
          "grnd_level": 995,
          "humidity": 81,
          "pressure": 1000,
          "sea_level": 1000,
          "temp": 1.44,
          "temp_kf": 0,
          "temp_max": 1.44,
          "temp_min": 1.44
         },
         "pop": 0,
         "sys": {
          "pod": "d"
         },
         "visibility": 10000,
         "weather": [
          {
           "description": "overcast clouds",
           "icon": "04d",
           "id": 804,
           "main": "Clouds"
          }
         ],
         "wind": {
          "deg": 70,
          "gust": 5.8,
          "speed": 2.96
         }
        },
        {
         "clouds": {
          "all": 100
         },
         "dt": 1638100800,
         "dt_txt": "2021-11-28 12:00:00",
         "main": {
          "feels_like": -0.56,
          "grnd_level": 995,
          "humidity": 74,
          "pressure": 1000,
          "sea_level": 1000,
          "temp": 2.83,
          "temp_kf": 0,
          "temp_max": 2.83,
          "temp_min": 2.83
         },
         "pop": 0,
         "sys": {
          "pod": "d"
         },
         "visibility": 10000,
         "weather": [
          {
           "description": "overcast clouds",
           "icon": "04d",
           "id": 804,
           "main": "Clouds"
          }
         ],
         "wind": {
          "deg": 53,
          "gust": 6.8,
          "speed": 3.62
         }
        },
        {
         "clouds": {
          "all": 100
         },
         "dt": 1638111600,
         "dt_txt": "2021-11-28 15:00:00",
         "main": {
          "feels_like": -1.32,
          "grnd_level": 995,
          "humidity": 72,
          "pressure": 1000,
          "sea_level": 1000,
          "temp": 2.39,
          "temp_kf": 0,
          "temp_max": 2.39,
          "temp_min": 2.39
         },
         "pop": 0.02,
         "sys": {
          "pod": "n"
         },
         "visibility": 10000,
         "weather": [
          {
           "description": "overcast clouds",
           "icon": "04n",
           "id": 804,
           "main": "Clouds"
          }
         ],
         "wind": {
          "deg": 35,
          "gust": 8.62,
          "speed": 3.95
         }
        },
        {
         "clouds": {
          "all": 100
         },
         "dt": 1638122400,
         "dt_txt": "2021-11-28 18:00:00",
         "main": {
          "feels_like": -1.75,
          "grnd_level": 994,
          "humidity": 72,
          "pressure": 1000,
          "sea_level": 1000,
          "temp": 2.26,
          "temp_kf": 0,
          "temp_max": 2.26,
          "temp_min": 2.26
         },
         "pop": 0.1,
         "sys": {
          "pod": "n"
         },
         "visibility": 10000,
         "weather": [
          {
           "description": "overcast clouds",
           "icon": "04n",
           "id": 804,
           "main": "Clouds"
          }
         ],
         "wind": {
          "deg": 21,
          "gust": 10.4,
          "speed": 4.4
         }
        },
        {
         "clouds": {
          "all": 100
         },
         "dt": 1638133200,
         "dt_txt": "2021-11-28 21:00:00",
         "main": {
          "feels_like": -2.02,
          "grnd_level": 994,
          "humidity": 81,
          "pressure": 999,
          "sea_level": 999,
          "temp": 2,
          "temp_kf": 0,
          "temp_max": 2,
          "temp_min": 2
         },
         "pop": 0.47,
         "snow": {
          "3h": 0.19
         },
         "sys": {
          "pod": "n"
         },
         "visibility": 10000,
         "weather": [
          {
           "description": "light snow",
           "icon": "13n",
           "id": 600,
           "main": "Snow"
          }
         ],
         "wind": {
          "deg": 19,
          "gust": 10.76,
          "speed": 4.31
         }
        },
        {
         "clouds": {
          "all": 100
         },
         "dt": 1638144000,
         "dt_txt": "2021-11-29 00:00:00",
         "main": {
          "feels_like": -3.38,
          "grnd_level": 993,
          "humidity": 96,
          "pressure": 998,
          "sea_level": 998,
          "temp": 1.18,
          "temp_kf": 0,
          "temp_max": 1.18,
          "temp_min": 1.18
         },
         "pop": 1,
         "snow": {
          "3h": 1.87
         },
         "sys": {
          "pod": "n"
         },
         "visibility": 42,
         "weather": [
          {
           "description": "snow",
           "icon": "13n",
           "id": 601,
           "main": "Snow"
          }
         ],
         "wind": {
          "deg": 5,
          "gust": 11.97,
          "speed": 4.9
         }
        },
        {
         "clouds": {
          "all": 100
         },
         "dt": 1638154800,
         "dt_txt": "2021-11-29 03:00:00",
         "main": {
          "feels_like": -4.53,
          "grnd_level": 993,
          "humidity": 97,
          "pressure": 998,
          "sea_level": 998,
          "temp": 0.58,
          "temp_kf": 0,
          "temp_max": 0.58,
          "temp_min": 0.58
         },
         "pop": 1,
         "snow": {
          "3h": 3.77
         },
         "sys": {
          "pod": "n"
         },
         "visibility": 53,
         "weather": [
          {
           "description": "snow",
           "icon": "13n",
           "id": 601,
           "main": "Snow"
          }
         ],
         "wind": {
          "deg": 2,
          "gust": 13.37,
          "speed": 5.63
         }
        },
        {
         "clouds": {
          "all": 100
         },
         "dt": 1638165600,
         "dt_txt": "2021-11-29 06:00:00",
         "main": {
          "feels_like": -4.5,
          "grnd_level": 994,
          "humidity": 97,
          "pressure": 999,
          "sea_level": 999,
          "temp": 0.67,
          "temp_kf": 0,
          "temp_max": 0.67,
          "temp_min": 0.67
         },
         "pop": 1,
         "snow": {
          "3h": 2.88
         },
         "sys": {
          "pod": "n"
         },
         "visibility": 43,
         "weather": [
          {
           "description": "snow",
           "icon": "13n",
           "id": 601,
           "main": "Snow"
          }
         ],
         "wind": {
          "deg": 10,
          "gust": 13.42,
          "speed": 5.79
         }
        },
        {
         "clouds": {
          "all": 100
         },
         "dt": 1638176400,
         "dt_txt": "2021-11-29 09:00:00",
         "main": {
          "feels_like": -3.88,
          "grnd_level": 996,
          "humidity": 97,
          "pressure": 1001,
          "sea_level": 1001,
          "temp": 0.99,
          "temp_kf": 0,
          "temp_max": 0.99,
          "temp_min": 0.99
         },
         "pop": 0.98,
         "snow": {
          "3h": 0.83
         },
         "sys": {
          "pod": "d"
         },
         "visibility": 39,
         "weather": [
          {
           "description": "light snow",
           "icon": "13d",
           "id": 600,
           "main": "Snow"
          }
         ],
         "wind": {
          "deg": 16,
          "gust": 12.84,
          "speed": 5.38
         }
        },
        {
         "clouds": {
          "all": 100
         },
         "dt": 1638187200,
         "dt_txt": "2021-11-29 12:00:00",
         "main": {
          "feels_like": -3.52,
          "grnd_level": 997,
          "humidity": 97,
          "pressure": 1002,
          "sea_level": 1002,
          "temp": 1.28,
          "temp_kf": 0,
          "temp_max": 1.28,
          "temp_min": 1.28
         },
         "pop": 0.98,
         "snow": {
          "3h": 1.18
         },
         "sys": {
          "pod": "d"
         },
         "visibility": 30,
         "weather": [
          {
           "description": "light snow",
           "icon": "13d",
           "id": 600,
           "main": "Snow"
          }
         ],
         "wind": {
          "deg": 358,
          "gust": 12.48,
          "speed": 5.38
         }
        }
       ],
       "message": 0
      },
      "text/plain": [
       "<IPython.core.display.JSON object>"
      ]
     },
     "execution_count": 27,
     "metadata": {
      "application/json": {
       "expanded": false,
       "root": "root"
      }
     },
     "output_type": "execute_result"
    }
   ],
   "source": [
    "import requests\n",
    "\n",
    "response = requests.get(f'http://api.openweathermap.org/data/2.5/forecast/?q={city},{country}&appid={OWM_key}&units=metric&lang=en')\n",
    "\n",
    "from IPython.display import JSON\n",
    "JSON(response.json())"
   ]
  },
  {
   "cell_type": "code",
   "execution_count": 28,
   "id": "82c813aa-37d3-43ad-9b21-a4c1e07f5111",
   "metadata": {},
   "outputs": [
    {
     "name": "stdout",
     "output_type": "stream",
     "text": [
      "2021-11-24 18:00:00\t|\t7.12\t|\t1.9\t|\t0.0\t|\t0\t|\t0\n"
     ]
    }
   ],
   "source": [
    "forecast_api = response.json()['list']\n",
    "# look for the fields that could be relevant: \n",
    "# better field descriptions https://www.weatherbit.io/api/weather-forecast-5-day\n",
    "datetime, temperature, wind, prob_perc, rain_qty, snow = [], [], [], [], [], []\n",
    "\n",
    "for forecast_3h in forecast_api: \n",
    "    # datetime utc\n",
    "    datetime.append(forecast_3h['dt_txt'])\n",
    "    # temperature \n",
    "    temperature.append(forecast_3h['main']['temp'])\n",
    "    # wind\n",
    "    wind.append(forecast_3h['wind']['speed'])\n",
    "    # probability precipitation \n",
    "    try: prob_perc.append(float(forecast_3h['pop']))\n",
    "    except: prob_perc.append(0)\n",
    "    # rain\n",
    "    try: rain_qty.append(float(forecast_3h['rain']['3h']))\n",
    "    except: rain_qty.append(0)\n",
    "    # snow \n",
    "    try: snow.append(float(forecast_3h['snow']['3h']))\n",
    "    except: snow.append(0) \n",
    "        \n",
    "print(datetime[1], temperature[1], wind[1], prob_perc[1], rain_qty[1], snow[1], sep='\\t|\\t')\n",
    "# next steps: insert values into the weather table\n",
    "# need to create an id for berlin city"
   ]
  },
  {
   "cell_type": "code",
   "execution_count": 27,
   "id": "3b4cf33c-f31d-46a3-86f1-2f21a87053f9",
   "metadata": {
    "collapsed": true,
    "jupyter": {
     "outputs_hidden": true,
     "source_hidden": true
    },
    "tags": []
   },
   "outputs": [
    {
     "name": "stdout",
     "output_type": "stream",
     "text": [
      "0.0\n",
      "0.0\n",
      "0.0\n",
      "0.0\n",
      "num is 0\n",
      "0.0\n",
      "0.0\n"
     ]
    }
   ],
   "source": [
    "list_num = [1, 2, 34, 5, 0, 34 , 5]\n",
    "for num in list_num: \n",
    "    try: \n",
    "        print(0/num)\n",
    "    except: \n",
    "        print('num is 0')"
   ]
  },
  {
   "cell_type": "markdown",
   "id": "fb346746-0a3a-4ceb-a8f8-aabf80129453",
   "metadata": {
    "jupyter": {
     "source_hidden": true
    },
    "tags": []
   },
   "source": [
    "## Trying Rapid API\n",
    "\n",
    "### Number Translator API Documentation\n",
    "\n",
    "https://rapidapi.com/orthosie/api/numbers-translator/"
   ]
  },
  {
   "cell_type": "code",
   "execution_count": 26,
   "id": "e8c2de37-5182-44c2-91a4-4aa0abc128d3",
   "metadata": {
    "jupyter": {
     "source_hidden": true
    },
    "tags": []
   },
   "outputs": [],
   "source": [
    "def text_number(number): \n",
    "\n",
    "    import requests\n",
    "\n",
    "    url = \"https://numbers-spell.p.rapidapi.com/numbers\"\n",
    "\n",
    "    querystring = {\"text\":number}\n",
    "\n",
    "    headers = {\n",
    "        'x-funtranslations-api-secret': \"<REQUIRED>\",\n",
    "        'x-rapidapi-host': \"numbers-spell.p.rapidapi.com\",\n",
    "        'x-rapidapi-key': \"\"\n",
    "        }\n",
    "\n",
    "    response = requests.request(\"GET\", url, headers=headers, params=querystring)\n",
    "\n",
    "    return(response.json())"
   ]
  },
  {
   "cell_type": "code",
   "execution_count": 22,
   "id": "92f6ab6b-a825-418a-b7a2-7f0a7d0c77bf",
   "metadata": {
    "jupyter": {
     "source_hidden": true
    },
    "tags": []
   },
   "outputs": [],
   "source": [
    "temp = text_number(34)#['contents']['translation']"
   ]
  },
  {
   "cell_type": "code",
   "execution_count": 20,
   "id": "b54db841-6654-4fb4-8221-8b9a2aa230a3",
   "metadata": {
    "collapsed": true,
    "jupyter": {
     "outputs_hidden": true,
     "source_hidden": true
    },
    "tags": []
   },
   "outputs": [
    {
     "data": {
      "text/plain": [
       "{'message': 'Invalid API key. Go to https://docs.rapidapi.com/docs/keys for more info.'}"
      ]
     },
     "execution_count": 20,
     "metadata": {},
     "output_type": "execute_result"
    }
   ],
   "source": [
    "temp"
   ]
  },
  {
   "cell_type": "markdown",
   "id": "ad5e1a57-4ef0-4c9f-8c44-8445f10d0b07",
   "metadata": {
    "jupyter": {
     "source_hidden": true
    },
    "tags": []
   },
   "source": [
    "### IMDb Documentation\n",
    "\n",
    "https://rapidapi.com/apidojo/api/imdb8/"
   ]
  },
  {
   "cell_type": "code",
   "execution_count": 28,
   "id": "c7f910cc-815b-48ca-bdd7-0e106b663cff",
   "metadata": {
    "collapsed": true,
    "jupyter": {
     "outputs_hidden": true,
     "source_hidden": true
    },
    "tags": []
   },
   "outputs": [
    {
     "name": "stdout",
     "output_type": "stream",
     "text": [
      "{\"message\":\"Invalid API key. Go to https:\\/\\/docs.rapidapi.com\\/docs\\/keys for more info.\"}\n"
     ]
    }
   ],
   "source": [
    "import requests\n",
    "\n",
    "url = \"https://imdb8.p.rapidapi.com/title/find\"\n",
    "\n",
    "querystring = {\"q\":\"pulp fiction\"}\n",
    "\n",
    "headers = {\n",
    "    'x-rapidapi-host': \"imdb8.p.rapidapi.com\",\n",
    "    'x-rapidapi-key': \"\"\n",
    "    }\n",
    "\n",
    "response = requests.request(\"GET\", url, headers=headers, params=querystring)\n",
    "\n",
    "print(response.text)"
   ]
  },
  {
   "cell_type": "code",
   "execution_count": 29,
   "id": "12647ec9-ef9a-4866-aca9-471286e8403d",
   "metadata": {
    "collapsed": true,
    "jupyter": {
     "outputs_hidden": true,
     "source_hidden": true
    },
    "tags": []
   },
   "outputs": [
    {
     "data": {
      "application/json": {
       "message": "Invalid API key. Go to https://docs.rapidapi.com/docs/keys for more info."
      },
      "text/plain": [
       "<IPython.core.display.JSON object>"
      ]
     },
     "execution_count": 29,
     "metadata": {
      "application/json": {
       "expanded": false,
       "root": "root"
      }
     },
     "output_type": "execute_result"
    }
   ],
   "source": [
    "JSON(response.json())"
   ]
  },
  {
   "cell_type": "markdown",
   "id": "cce8643d-bf1b-4a46-950a-aa8c8ffc8221",
   "metadata": {},
   "source": [
    "## Arrivals at Berlin Airport "
   ]
  },
  {
   "cell_type": "code",
   "execution_count": 33,
   "id": "ac0488e7-534e-460b-b7d8-d38e6acb1f60",
   "metadata": {
    "tags": []
   },
   "outputs": [],
   "source": [
    "import requests\n",
    "\n",
    "url = \"https://aerodatabox.p.rapidapi.com/flights/airports/icao/EDDB/2021-11-25T08:00/2021-11-25T20:00\"\n",
    "\n",
    "querystring = {\"withLeg\":\"true\",\"direction\":\"Arrival\",\"withCancelled\":\"true\",\"withCodeshared\":\"true\",\"withCargo\":\"false\",\"withPrivate\":\"true\",\"withLocation\":\"false\"}\n",
    "\n",
    "headers = {\n",
    "    'x-rapidapi-host': \"aerodatabox.p.rapidapi.com\",\n",
    "    'x-rapidapi-key': \"e39db7f26bmsha13057ceeef84dbp102050jsn189f13591088\"\n",
    "    }\n",
    "\n",
    "response = requests.request(\"GET\", url, headers=headers, params=querystring)\n",
    "\n",
    "#print(response.text)"
   ]
  },
  {
   "cell_type": "code",
   "execution_count": 2,
   "id": "92bbbd50-7fd6-4ce8-bc79-9fc289ced99f",
   "metadata": {
    "tags": []
   },
   "outputs": [
    {
     "data": {
      "application/json": {
       "arrivals": [
        {
         "aircraft": {
          "model": "Airbus A320"
         },
         "airline": {
          "name": "Air France"
         },
         "arrival": {
          "quality": [
           "Basic"
          ],
          "scheduledTimeLocal": "2021-11-25 08:55+01:00",
          "scheduledTimeUtc": "2021-11-25 07:55Z",
          "terminal": "1"
         },
         "codeshareStatus": "Unknown",
         "departure": {
          "airport": {
           "iata": "ORY",
           "icao": "LFPO",
           "name": "Paris"
          },
          "quality": [
           "Basic"
          ],
          "scheduledTimeLocal": "2021-11-25 07:00+01:00",
          "scheduledTimeUtc": "2021-11-25 06:00Z",
          "terminal": "3"
         },
         "isCargo": false,
         "number": "AF 7354",
         "status": "Unknown"
        },
        {
         "aircraft": {
          "model": "ATR 72"
         },
         "airline": {
          "name": "Danish Air"
         },
         "arrival": {
          "quality": [
           "Basic"
          ],
          "scheduledTimeLocal": "2021-11-25 08:10+01:00",
          "scheduledTimeUtc": "2021-11-25 07:10Z",
          "terminal": "0"
         },
         "codeshareStatus": "Unknown",
         "departure": {
          "airport": {
           "iata": "SCN",
           "icao": "EDDR",
           "name": "Saarbrücken"
          },
          "quality": [
           "Basic"
          ],
          "scheduledTimeLocal": "2021-11-25 06:40+01:00",
          "scheduledTimeUtc": "2021-11-25 05:40Z"
         },
         "isCargo": false,
         "number": "DX 121",
         "status": "Unknown"
        },
        {
         "aircraft": {
          "model": "Boeing 737-800"
         },
         "airline": {
          "name": "Ryanair"
         },
         "arrival": {
          "quality": [
           "Basic"
          ],
          "scheduledTimeLocal": "2021-11-25 08:45+01:00",
          "scheduledTimeUtc": "2021-11-25 07:45Z"
         },
         "codeshareStatus": "Unknown",
         "departure": {
          "airport": {
           "iata": "PSA",
           "icao": "LIRP",
           "name": "Pisa"
          },
          "quality": [
           "Basic"
          ],
          "scheduledTimeLocal": "2021-11-25 06:50+01:00",
          "scheduledTimeUtc": "2021-11-25 05:50Z"
         },
         "isCargo": false,
         "number": "FR 9955",
         "status": "Unknown"
        },
        {
         "aircraft": {
          "model": "Bombardier Dash 8 Q400 / DHC-8-400"
         },
         "airline": {
          "name": "Luxair"
         },
         "arrival": {
          "quality": [
           "Basic"
          ],
          "scheduledTimeLocal": "2021-11-25 08:15+01:00",
          "scheduledTimeUtc": "2021-11-25 07:15Z",
          "terminal": "1"
         },
         "codeshareStatus": "Unknown",
         "departure": {
          "actualTimeLocal": "2021-11-25 06:45+01:00",
          "actualTimeUtc": "2021-11-25 05:45Z",
          "airport": {
           "iata": "LUX",
           "icao": "ELLX",
           "name": "Luxembourg"
          },
          "quality": [
           "Basic",
           "Live"
          ],
          "scheduledTimeLocal": "2021-11-25 06:45+01:00",
          "scheduledTimeUtc": "2021-11-25 05:45Z"
         },
         "isCargo": false,
         "number": "LG 9471",
         "status": "Unknown"
        },
        {
         "aircraft": {
          "model": "Airbus A320",
          "reg": "D-AIZZ"
         },
         "airline": {
          "name": "Lufthansa"
         },
         "arrival": {
          "quality": [
           "Basic"
          ],
          "scheduledTimeLocal": "2021-11-25 08:55+01:00",
          "scheduledTimeUtc": "2021-11-25 07:55Z",
          "terminal": "1"
         },
         "codeshareStatus": "IsCodeshared",
         "departure": {
          "actualTimeLocal": "2021-11-25 07:45+01:00",
          "actualTimeUtc": "2021-11-25 06:45Z",
          "airport": {
           "iata": "FRA",
           "icao": "EDDF",
           "name": "Frankfurt-am-Main"
          },
          "checkInDesk": "263-453",
          "gate": "A16",
          "quality": [
           "Basic",
           "Live"
          ],
          "scheduledTimeLocal": "2021-11-25 07:45+01:00",
          "scheduledTimeUtc": "2021-11-25 06:45Z",
          "terminal": "1"
         },
         "isCargo": false,
         "number": "LH 174",
         "status": "Unknown"
        },
        {
         "aircraft": {
          "model": "Airbus A320 NEO"
         },
         "airline": {
          "name": "Lufthansa"
         },
         "arrival": {
          "quality": [
           "Basic"
          ],
          "scheduledTimeLocal": "2021-11-25 08:10+01:00",
          "scheduledTimeUtc": "2021-11-25 07:10Z",
          "terminal": "1"
         },
         "codeshareStatus": "IsCodeshared",
         "departure": {
          "airport": {
           "iata": "MUC",
           "icao": "EDDM",
           "name": "Munich"
          },
          "quality": [
           "Basic"
          ],
          "scheduledTimeLocal": "2021-11-25 07:00+01:00",
          "scheduledTimeUtc": "2021-11-25 06:00Z",
          "terminal": "2"
         },
         "isCargo": false,
         "number": "LH 1928",
         "status": "Unknown"
        },
        {
         "aircraft": {
          "model": "Airbus A320"
         },
         "airline": {
          "name": "SWISS"
         },
         "arrival": {
          "quality": [
           "Basic"
          ],
          "scheduledTimeLocal": "2021-11-25 08:45+01:00",
          "scheduledTimeUtc": "2021-11-25 07:45Z",
          "terminal": "1"
         },
         "codeshareStatus": "Unknown",
         "departure": {
          "actualTimeLocal": "2021-11-25 07:15+01:00",
          "actualTimeUtc": "2021-11-25 06:15Z",
          "airport": {
           "iata": "ZRH",
           "icao": "LSZH",
           "name": "Zurich"
          },
          "checkInDesk": "1",
          "quality": [
           "Basic",
           "Live"
          ],
          "scheduledTimeLocal": "2021-11-25 07:15+01:00",
          "scheduledTimeUtc": "2021-11-25 06:15Z"
         },
         "isCargo": false,
         "number": "LX 974",
         "status": "Unknown"
        },
        {
         "aircraft": {
          "model": "Embraer 195"
         },
         "airline": {
          "name": "Austrian"
         },
         "arrival": {
          "quality": [
           "Basic"
          ],
          "scheduledTimeLocal": "2021-11-25 08:55+01:00",
          "scheduledTimeUtc": "2021-11-25 07:55Z",
          "terminal": "1"
         },
         "codeshareStatus": "Unknown",
         "departure": {
          "actualTimeLocal": "2021-11-25 07:40+01:00",
          "actualTimeUtc": "2021-11-25 06:40Z",
          "airport": {
           "iata": "VIE",
           "icao": "LOWW",
           "name": "Vienna"
          },
          "checkInDesk": "351-378",
          "quality": [
           "Basic",
           "Live"
          ],
          "scheduledTimeLocal": "2021-11-25 07:40+01:00",
          "scheduledTimeUtc": "2021-11-25 06:40Z",
          "terminal": "T3"
         },
         "isCargo": false,
         "number": "OS 223",
         "status": "Unknown"
        },
        {
         "aircraft": {
          "model": "Boeing 737-800"
         },
         "airline": {
          "name": "Norwegian Air Shuttle"
         },
         "arrival": {
          "quality": [
           "Basic"
          ],
          "scheduledTimeLocal": "2021-11-25 09:10+01:00",
          "scheduledTimeUtc": "2021-11-25 08:10Z",
          "terminal": "1"
         },
         "codeshareStatus": "Unknown",
         "departure": {
          "airport": {
           "iata": "OSL",
           "icao": "ENGM",
           "name": "Oslo"
          },
          "checkInDesk": "23",
          "quality": [
           "Basic"
          ],
          "scheduledTimeLocal": "2021-11-25 07:35+01:00",
          "scheduledTimeUtc": "2021-11-25 06:35Z"
         },
         "isCargo": false,
         "number": "DY 1102",
         "status": "Unknown"
        },
        {
         "aircraft": {
          "model": "Airbus A320"
         },
         "airline": {
          "name": "Eurowings"
         },
         "arrival": {
          "quality": [
           "Basic"
          ],
          "scheduledTimeLocal": "2021-11-25 09:40+01:00",
          "scheduledTimeUtc": "2021-11-25 08:40Z",
          "terminal": "1"
         },
         "codeshareStatus": "Unknown",
         "departure": {
          "airport": {
           "iata": "CGN",
           "icao": "EDDK",
           "name": "Cologne"
          },
          "quality": [
           "Basic"
          ],
          "scheduledTimeLocal": "2021-11-25 08:30+01:00",
          "scheduledTimeUtc": "2021-11-25 07:30Z",
          "terminal": "1"
         },
         "isCargo": false,
         "number": "EW 8059",
         "status": "Unknown"
        },
        {
         "aircraft": {
          "model": "Boeing 737-800"
         },
         "airline": {
          "name": "Ryanair"
         },
         "arrival": {
          "quality": [
           "Basic"
          ],
          "scheduledTimeLocal": "2021-11-25 09:30+01:00",
          "scheduledTimeUtc": "2021-11-25 08:30Z"
         },
         "codeshareStatus": "Unknown",
         "departure": {
          "actualTimeLocal": "2021-11-25 08:00+01:00",
          "actualTimeUtc": "2021-11-25 07:00Z",
          "airport": {
           "iata": "BUD",
           "icao": "LHBP",
           "name": "Budapest"
          },
          "quality": [
           "Basic",
           "Live"
          ],
          "scheduledTimeLocal": "2021-11-25 08:00+01:00",
          "scheduledTimeUtc": "2021-11-25 07:00Z",
          "terminal": "2B"
         },
         "isCargo": false,
         "number": "FR 197",
         "status": "Unknown"
        },
        {
         "aircraft": {
          "model": "Boeing 737-800"
         },
         "airline": {
          "name": "Ryanair"
         },
         "arrival": {
          "quality": [
           "Basic"
          ],
          "scheduledTimeLocal": "2021-11-25 09:25+01:00",
          "scheduledTimeUtc": "2021-11-25 08:25Z"
         },
         "codeshareStatus": "Unknown",
         "departure": {
          "actualTimeLocal": "2021-11-25 06:20+01:00",
          "actualTimeUtc": "2021-11-25 05:20Z",
          "airport": {
           "iata": "MAD",
           "icao": "LEMD",
           "name": "Madrid"
          },
          "quality": [
           "Basic",
           "Live"
          ],
          "scheduledTimeLocal": "2021-11-25 06:20+01:00",
          "scheduledTimeUtc": "2021-11-25 05:20Z",
          "terminal": "1"
         },
         "isCargo": false,
         "number": "FR 2526",
         "status": "Unknown"
        },
        {
         "aircraft": {
          "model": "Boeing 737-800"
         },
         "airline": {
          "name": "Ryanair"
         },
         "arrival": {
          "quality": [
           "Basic"
          ],
          "scheduledTimeLocal": "2021-11-25 09:45+01:00",
          "scheduledTimeUtc": "2021-11-25 08:45Z"
         },
         "codeshareStatus": "Unknown",
         "departure": {
          "actualTimeLocal": "2021-11-25 09:05+02:00",
          "actualTimeUtc": "2021-11-25 07:05Z",
          "airport": {
           "iata": "RIX",
           "icao": "EVRA",
           "name": "Riga"
          },
          "quality": [
           "Basic",
           "Live"
          ],
          "scheduledTimeLocal": "2021-11-25 09:05+02:00",
          "scheduledTimeUtc": "2021-11-25 07:05Z"
         },
         "isCargo": false,
         "number": "FR 2600",
         "status": "Unknown"
        },
        {
         "aircraft": {
          "model": "Airbus A320"
         },
         "airline": {
          "name": "Air Serbia"
         },
         "arrival": {
          "quality": [
           "Basic"
          ],
          "scheduledTimeLocal": "2021-11-25 09:00+01:00",
          "scheduledTimeUtc": "2021-11-25 08:00Z",
          "terminal": "1"
         },
         "codeshareStatus": "Unknown",
         "departure": {
          "airport": {
           "iata": "BEG",
           "icao": "LYBE",
           "name": "Belgrade"
          },
          "quality": [
           "Basic"
          ],
          "scheduledTimeLocal": "2021-11-25 07:10+01:00",
          "scheduledTimeUtc": "2021-11-25 06:10Z",
          "terminal": "2"
         },
         "isCargo": false,
         "number": "JU 350",
         "status": "Unknown"
        },
        {
         "aircraft": {
          "model": "Boeing 737-700",
          "reg": "PH-BCL"
         },
         "airline": {
          "name": "KLM"
         },
         "arrival": {
          "quality": [
           "Basic"
          ],
          "scheduledTimeLocal": "2021-11-25 09:25+01:00",
          "scheduledTimeUtc": "2021-11-25 08:25Z",
          "terminal": "1"
         },
         "codeshareStatus": "IsOperator",
         "departure": {
          "airport": {
           "iata": "AMS",
           "icao": "EHAM",
           "name": "Amsterdam"
          },
          "checkInDesk": "5-8",
          "quality": [
           "Basic"
          ],
          "scheduledTimeLocal": "2021-11-25 08:05+01:00",
          "scheduledTimeUtc": "2021-11-25 07:05Z",
          "terminal": "1"
         },
         "isCargo": false,
         "number": "KL 1821",
         "status": "Unknown"
        },
        {
         "aircraft": {
          "model": "Airbus A320",
          "reg": "D-AIUD"
         },
         "airline": {
          "name": "Lufthansa"
         },
         "arrival": {
          "quality": [
           "Basic"
          ],
          "scheduledTimeLocal": "2021-11-25 09:55+01:00",
          "scheduledTimeUtc": "2021-11-25 08:55Z",
          "terminal": "1"
         },
         "codeshareStatus": "IsCodeshared",
         "departure": {
          "actualTimeLocal": "2021-11-25 08:45+01:00",
          "actualTimeUtc": "2021-11-25 07:45Z",
          "airport": {
           "iata": "FRA",
           "icao": "EDDF",
           "name": "Frankfurt-am-Main"
          },
          "checkInDesk": "263-453",
          "gate": "A21",
          "quality": [
           "Basic",
           "Live"
          ],
          "scheduledTimeLocal": "2021-11-25 08:45+01:00",
          "scheduledTimeUtc": "2021-11-25 07:45Z",
          "terminal": "1"
         },
         "isCargo": false,
         "number": "LH 176",
         "status": "Unknown"
        },
        {
         "aircraft": {
          "model": "Airbus A320"
         },
         "airline": {
          "name": "Lufthansa"
         },
         "arrival": {
          "quality": [
           "Basic"
          ],
          "scheduledTimeLocal": "2021-11-25 09:40+01:00",
          "scheduledTimeUtc": "2021-11-25 08:40Z",
          "terminal": "1"
         },
         "codeshareStatus": "IsCodeshared",
         "departure": {
          "airport": {
           "iata": "MUC",
           "icao": "EDDM",
           "name": "Munich"
          },
          "quality": [
           "Basic"
          ],
          "scheduledTimeLocal": "2021-11-25 08:30+01:00",
          "scheduledTimeUtc": "2021-11-25 07:30Z",
          "terminal": "2"
         },
         "isCargo": false,
         "number": "LH 1930",
         "status": "Unknown"
        },
        {
         "aircraft": {
          "model": "Airbus A330-300"
         },
         "airline": {
          "name": "Turkish"
         },
         "arrival": {
          "quality": [
           "Basic"
          ],
          "scheduledTimeLocal": "2021-11-25 09:35+01:00",
          "scheduledTimeUtc": "2021-11-25 08:35Z",
          "terminal": "1"
         },
         "codeshareStatus": "Unknown",
         "departure": {
          "airport": {
           "iata": "IST",
           "icao": "LTFM",
           "name": "Istanbul"
          },
          "quality": [
           "Basic"
          ],
          "scheduledTimeLocal": "2021-11-25 08:55+03:00",
          "scheduledTimeUtc": "2021-11-25 05:55Z"
         },
         "isCargo": false,
         "number": "TK 1721",
         "status": "Unknown"
        },
        {
         "aircraft": {
          "model": "Airbus A320"
         },
         "airline": {
          "name": "easyJet"
         },
         "arrival": {
          "quality": [
           "Basic"
          ],
          "scheduledTimeLocal": "2021-11-25 09:55+01:00",
          "scheduledTimeUtc": "2021-11-25 08:55Z",
          "terminal": "1"
         },
         "codeshareStatus": "Unknown",
         "departure": {
          "airport": {
           "iata": "CPH",
           "icao": "EKCH",
           "name": "Copenhagen"
          },
          "quality": [
           "Basic"
          ],
          "scheduledTimeLocal": "2021-11-25 08:50+01:00",
          "scheduledTimeUtc": "2021-11-25 07:50Z",
          "terminal": "2"
         },
         "isCargo": false,
         "number": "U2 5684",
         "status": "Unknown"
        },
        {
         "aircraft": {
          "model": "Airbus A319"
         },
         "airline": {
          "name": "easyJet"
         },
         "arrival": {
          "quality": [
           "Basic"
          ],
          "scheduledTimeLocal": "2021-11-25 09:45+01:00",
          "scheduledTimeUtc": "2021-11-25 08:45Z",
          "terminal": "1"
         },
         "codeshareStatus": "Unknown",
         "departure": {
          "airport": {
           "iata": "AAR",
           "icao": "EKAH",
           "name": "Aarhus"
          },
          "quality": [
           "Basic"
          ],
          "scheduledTimeLocal": "2021-11-25 08:40+01:00",
          "scheduledTimeUtc": "2021-11-25 07:40Z"
         },
         "isCargo": false,
         "number": "U2 5698",
         "status": "Unknown"
        },
        {
         "aircraft": {
          "model": "Airbus A320"
         },
         "airline": {
          "name": "Aegean"
         },
         "arrival": {
          "quality": [
           "Basic"
          ],
          "scheduledTimeLocal": "2021-11-25 10:50+01:00",
          "scheduledTimeUtc": "2021-11-25 09:50Z",
          "terminal": "1"
         },
         "codeshareStatus": "Unknown",
         "departure": {
          "actualTimeLocal": "2021-11-25 08:55+02:00",
          "actualTimeUtc": "2021-11-25 06:55Z",
          "airport": {
           "iata": "ATH",
           "icao": "LGAV",
           "name": "Athens"
          },
          "checkInDesk": "70---91",
          "quality": [
           "Basic",
           "Live"
          ],
          "scheduledTimeLocal": "2021-11-25 08:55+02:00",
          "scheduledTimeUtc": "2021-11-25 06:55Z",
          "terminal": "D"
         },
         "isCargo": false,
         "number": "A3 820",
         "status": "Unknown"
        },
        {
         "aircraft": {
          "model": "Embraer 190"
         },
         "airline": {
          "name": "British Airways"
         },
         "arrival": {
          "quality": [
           "Basic"
          ],
          "scheduledTimeLocal": "2021-11-25 10:25+01:00",
          "scheduledTimeUtc": "2021-11-25 09:25Z",
          "terminal": "1"
         },
         "codeshareStatus": "IsCodeshared",
         "departure": {
          "airport": {
           "iata": "LCY",
           "icao": "EGLC",
           "name": "London"
          },
          "quality": [
           "Basic"
          ],
          "scheduledTimeLocal": "2021-11-25 07:45+00:00",
          "scheduledTimeUtc": "2021-11-25 07:45Z"
         },
         "isCargo": false,
         "number": "BA 8491",
         "status": "Unknown"
        },
        {
         "aircraft": {
          "model": "Boeing 737-800"
         },
         "airline": {
          "name": "Ryanair"
         },
         "arrival": {
          "quality": [
           "Basic"
          ],
          "scheduledTimeLocal": "2021-11-25 10:40+01:00",
          "scheduledTimeUtc": "2021-11-25 09:40Z"
         },
         "codeshareStatus": "Unknown",
         "departure": {
          "airport": {
           "iata": "STN",
           "icao": "EGSS",
           "name": "London"
          },
          "quality": [
           "Basic"
          ],
          "scheduledTimeLocal": "2021-11-25 07:50+00:00",
          "scheduledTimeUtc": "2021-11-25 07:50Z"
         },
         "isCargo": false,
         "number": "FR 145",
         "status": "Unknown"
        },
        {
         "aircraft": {
          "model": "Boeing 737-800"
         },
         "airline": {
          "name": "Ryanair"
         },
         "arrival": {
          "quality": [
           "Basic"
          ],
          "scheduledTimeLocal": "2021-11-25 10:40+01:00",
          "scheduledTimeUtc": "2021-11-25 09:40Z"
         },
         "codeshareStatus": "Unknown",
         "departure": {
          "airport": {
           "iata": "BGY",
           "icao": "LIME",
           "name": "Bergamo"
          },
          "quality": [
           "Basic"
          ],
          "scheduledTimeLocal": "2021-11-25 08:55+01:00",
          "scheduledTimeUtc": "2021-11-25 07:55Z"
         },
         "isCargo": false,
         "number": "FR 4731",
         "status": "Unknown"
        },
        {
         "aircraft": {
          "model": "Airbus A320"
         },
         "airline": {
          "name": "Austrian"
         },
         "arrival": {
          "quality": [
           "Basic"
          ],
          "scheduledTimeLocal": "2021-11-25 10:25+01:00",
          "scheduledTimeUtc": "2021-11-25 09:25Z",
          "terminal": "1"
         },
         "codeshareStatus": "Unknown",
         "departure": {
          "airport": {
           "iata": "VIE",
           "icao": "LOWW",
           "name": "Vienna"
          },
          "quality": [
           "Basic"
          ],
          "scheduledTimeLocal": "2021-11-25 09:10+01:00",
          "scheduledTimeUtc": "2021-11-25 08:10Z",
          "terminal": "3"
         },
         "isCargo": false,
         "number": "OS 225",
         "status": "Unknown"
        },
        {
         "aircraft": {
          "model": "Airbus A320",
          "reg": "OY-KAS"
         },
         "airline": {
          "name": "SAS"
         },
         "arrival": {
          "quality": [
           "Basic"
          ],
          "scheduledTimeLocal": "2021-11-25 10:30+01:00",
          "scheduledTimeUtc": "2021-11-25 09:30Z",
          "terminal": "1"
         },
         "codeshareStatus": "Unknown",
         "departure": {
          "actualTimeLocal": "2021-11-25 08:55+01:00",
          "actualTimeUtc": "2021-11-25 07:55Z",
          "airport": {
           "iata": "ARN",
           "icao": "ESSA",
           "name": "Stockholm"
          },
          "checkInDesk": "75-90",
          "quality": [
           "Basic",
           "Live"
          ],
          "scheduledTimeLocal": "2021-11-25 08:55+01:00",
          "scheduledTimeUtc": "2021-11-25 07:55Z",
          "terminal": "T5"
         },
         "isCargo": false,
         "number": "SK 2677",
         "status": "Unknown"
        },
        {
         "aircraft": {
          "model": "Boeing 787-8"
         },
         "airline": {
          "name": "Scoot"
         },
         "arrival": {
          "quality": [
           "Basic"
          ],
          "scheduledTimeLocal": "2021-11-25 10:20+01:00",
          "scheduledTimeUtc": "2021-11-25 09:20Z",
          "terminal": "1"
         },
         "codeshareStatus": "Unknown",
         "departure": {
          "actualTimeLocal": "2021-11-25 08:20+02:00",
          "actualTimeUtc": "2021-11-25 06:20Z",
          "airport": {
           "iata": "ATH",
           "icao": "LGAV",
           "name": "Athens"
          },
          "checkInDesk": "7----9",
          "quality": [
           "Basic",
           "Live"
          ],
          "scheduledTimeLocal": "2021-11-25 08:20+02:00",
          "scheduledTimeUtc": "2021-11-25 06:20Z",
          "terminal": "I"
         },
         "isCargo": false,
         "number": "TR 722",
         "status": "Unknown"
        },
        {
         "aircraft": {
          "model": "Airbus A319"
         },
         "airline": {
          "name": "Air France"
         },
         "arrival": {
          "quality": [
           "Basic"
          ],
          "scheduledTimeLocal": "2021-11-25 11:40+01:00",
          "scheduledTimeUtc": "2021-11-25 10:40Z",
          "terminal": "1"
         },
         "codeshareStatus": "Unknown",
         "departure": {
          "airport": {
           "iata": "CDG",
           "icao": "LFPG",
           "name": "Paris"
          },
          "quality": [
           "Basic"
          ],
          "scheduledTimeLocal": "2021-11-25 09:55+01:00",
          "scheduledTimeUtc": "2021-11-25 08:55Z",
          "terminal": "2F"
         },
         "isCargo": false,
         "number": "AF 1734",
         "status": "Unknown"
        },
        {
         "aircraft": {
          "model": "Airbus A320"
         },
         "airline": {
          "name": "British Airways"
         },
         "arrival": {
          "quality": [
           "Basic"
          ],
          "scheduledTimeLocal": "2021-11-25 11:40+01:00",
          "scheduledTimeUtc": "2021-11-25 10:40Z",
          "terminal": "1"
         },
         "codeshareStatus": "IsCodeshared",
         "departure": {
          "actualTimeLocal": "2021-11-25 08:45+00:00",
          "actualTimeUtc": "2021-11-25 08:45Z",
          "airport": {
           "iata": "LHR",
           "icao": "EGLL",
           "name": "London"
          },
          "checkInDesk": "G",
          "quality": [
           "Basic",
           "Live"
          ],
          "scheduledTimeLocal": "2021-11-25 08:45+00:00",
          "scheduledTimeUtc": "2021-11-25 08:45Z",
          "terminal": "5"
         },
         "isCargo": false,
         "number": "BA 992",
         "status": "Unknown"
        },
        {
         "aircraft": {
          "model": "Boeing 737-800"
         },
         "airline": {
          "name": "Norwegian Air International"
         },
         "arrival": {
          "quality": [
           "Basic"
          ],
          "scheduledTimeLocal": "2021-11-25 11:45+01:00",
          "scheduledTimeUtc": "2021-11-25 10:45Z",
          "terminal": "1"
         },
         "codeshareStatus": "Unknown",
         "departure": {
          "airport": {
           "iata": "CPH",
           "icao": "EKCH",
           "name": "Copenhagen"
          },
          "quality": [
           "Basic"
          ],
          "scheduledTimeLocal": "2021-11-25 10:45+01:00",
          "scheduledTimeUtc": "2021-11-25 09:45Z",
          "terminal": "2"
         },
         "isCargo": false,
         "number": "D8 3302",
         "status": "Unknown"
        },
        {
         "aircraft": {
          "model": "Boeing 737-800"
         },
         "airline": {
          "name": "Ryanair"
         },
         "arrival": {
          "quality": [
           "Basic"
          ],
          "scheduledTimeLocal": "2021-11-25 11:05+01:00",
          "scheduledTimeUtc": "2021-11-25 10:05Z"
         },
         "codeshareStatus": "Unknown",
         "departure": {
          "airport": {
           "iata": "CIA",
           "icao": "LIRA",
           "name": "Roma"
          },
          "quality": [
           "Basic"
          ],
          "scheduledTimeLocal": "2021-11-25 08:55+01:00",
          "scheduledTimeUtc": "2021-11-25 07:55Z"
         },
         "isCargo": false,
         "number": "FR 135",
         "status": "Unknown"
        },
        {
         "aircraft": {
          "model": "Boeing 737-800"
         },
         "airline": {
          "name": "Ryanair"
         },
         "arrival": {
          "quality": [
           "Basic"
          ],
          "scheduledTimeLocal": "2021-11-25 11:45+01:00",
          "scheduledTimeUtc": "2021-11-25 10:45Z"
         },
         "codeshareStatus": "Unknown",
         "departure": {
          "airport": {
           "iata": "SOF",
           "icao": "LBSF",
           "name": "Sofia"
          },
          "quality": [
           "Basic"
          ],
          "scheduledTimeLocal": "2021-11-25 10:25+02:00",
          "scheduledTimeUtc": "2021-11-25 08:25Z"
         },
         "isCargo": false,
         "number": "FR 1595",
         "status": "Unknown"
        },
        {
         "aircraft": {
          "model": "Airbus A320"
         },
         "airline": {
          "name": "Iberia"
         },
         "arrival": {
          "quality": [
           "Basic"
          ],
          "scheduledTimeLocal": "2021-11-25 11:05+01:00",
          "scheduledTimeUtc": "2021-11-25 10:05Z",
          "terminal": "1"
         },
         "codeshareStatus": "Unknown",
         "departure": {
          "actualTimeLocal": "2021-11-25 08:05+01:00",
          "actualTimeUtc": "2021-11-25 07:05Z",
          "airport": {
           "iata": "MAD",
           "icao": "LEMD",
           "name": "Madrid"
          },
          "quality": [
           "Basic",
           "Live"
          ],
          "scheduledTimeLocal": "2021-11-25 08:05+01:00",
          "scheduledTimeUtc": "2021-11-25 07:05Z",
          "terminal": "4"
         },
         "isCargo": false,
         "number": "IB 3676",
         "status": "Unknown"
        },
        {
         "aircraft": {
          "model": "Boeing 737-900",
          "reg": "PH-BCB"
         },
         "airline": {
          "name": "KLM"
         },
         "arrival": {
          "quality": [
           "Basic"
          ],
          "scheduledTimeLocal": "2021-11-25 11:05+01:00",
          "scheduledTimeUtc": "2021-11-25 10:05Z",
          "terminal": "1"
         },
         "codeshareStatus": "IsOperator",
         "departure": {
          "airport": {
           "iata": "AMS",
           "icao": "EHAM",
           "name": "Amsterdam"
          },
          "checkInDesk": "5-8",
          "quality": [
           "Basic"
          ],
          "scheduledTimeLocal": "2021-11-25 09:45+01:00",
          "scheduledTimeUtc": "2021-11-25 08:45Z",
          "terminal": "1"
         },
         "isCargo": false,
         "number": "KL 1823",
         "status": "Unknown"
        },
        {
         "aircraft": {
          "model": "Airbus A320",
          "reg": "D-AIUZ"
         },
         "airline": {
          "name": "Lufthansa"
         },
         "arrival": {
          "quality": [
           "Basic"
          ],
          "scheduledTimeLocal": "2021-11-25 11:55+01:00",
          "scheduledTimeUtc": "2021-11-25 10:55Z",
          "terminal": "1"
         },
         "codeshareStatus": "IsCodeshared",
         "departure": {
          "actualTimeLocal": "2021-11-25 10:45+01:00",
          "actualTimeUtc": "2021-11-25 09:45Z",
          "airport": {
           "iata": "FRA",
           "icao": "EDDF",
           "name": "Frankfurt-am-Main"
          },
          "checkInDesk": "263-453",
          "gate": "A11",
          "quality": [
           "Basic",
           "Live"
          ],
          "scheduledTimeLocal": "2021-11-25 10:45+01:00",
          "scheduledTimeUtc": "2021-11-25 09:45Z",
          "terminal": "1"
         },
         "isCargo": false,
         "number": "LH 180",
         "status": "Unknown"
        },
        {
         "aircraft": {
          "model": "Bombardier Dash 8 Q400 / DHC-8-400"
         },
         "airline": {
          "name": "LOT - Polish"
         },
         "arrival": {
          "quality": [
           "Basic"
          ],
          "scheduledTimeLocal": "2021-11-25 11:35+01:00",
          "scheduledTimeUtc": "2021-11-25 10:35Z",
          "terminal": "1"
         },
         "codeshareStatus": "Unknown",
         "departure": {
          "actualTimeLocal": "2021-11-25 10:10+01:00",
          "actualTimeUtc": "2021-11-25 09:10Z",
          "airport": {
           "iata": "WAW",
           "icao": "EPWA",
           "name": "Warsaw"
          },
          "checkInDesk": "241-280",
          "quality": [
           "Basic",
           "Live"
          ],
          "scheduledTimeLocal": "2021-11-25 10:10+01:00",
          "scheduledTimeUtc": "2021-11-25 09:10Z",
          "terminal": "E-D"
         },
         "isCargo": false,
         "number": "LO 385",
         "status": "Unknown"
        },
        {
         "aircraft": {
          "model": "Boeing 737-800"
         },
         "airline": {
          "name": "Jet2"
         },
         "arrival": {
          "quality": [
           "Basic"
          ],
          "scheduledTimeLocal": "2021-11-25 11:50+01:00",
          "scheduledTimeUtc": "2021-11-25 10:50Z",
          "terminal": "0"
         },
         "codeshareStatus": "Unknown",
         "departure": {
          "airport": {
           "iata": "NCL",
           "icao": "EGNT",
           "name": "Newcastle upon Tyne"
          },
          "quality": [
           "Basic"
          ],
          "scheduledTimeLocal": "2021-11-25 08:50+00:00",
          "scheduledTimeUtc": "2021-11-25 08:50Z"
         },
         "isCargo": false,
         "number": "LS 4067",
         "status": "Unknown"
        },
        {
         "aircraft": {
          "model": "Airbus A320"
         },
         "airline": {
          "name": "Pegasus"
         },
         "arrival": {
          "quality": [
           "Basic"
          ],
          "scheduledTimeLocal": "2021-11-25 11:00+01:00",
          "scheduledTimeUtc": "2021-11-25 10:00Z",
          "terminal": "0"
         },
         "codeshareStatus": "Unknown",
         "departure": {
          "airport": {
           "iata": "SAW",
           "icao": "LTFJ",
           "name": "Istanbul"
          },
          "quality": [
           "Basic"
          ],
          "scheduledTimeLocal": "2021-11-25 09:55+03:00",
          "scheduledTimeUtc": "2021-11-25 06:55Z"
         },
         "isCargo": false,
         "number": "PC 977",
         "status": "Unknown"
        },
        {
         "aircraft": {
          "model": "Airbus A319"
         },
         "airline": {
          "name": "Brussels"
         },
         "arrival": {
          "quality": [
           "Basic"
          ],
          "scheduledTimeLocal": "2021-11-25 11:15+01:00",
          "scheduledTimeUtc": "2021-11-25 10:15Z",
          "terminal": "1"
         },
         "codeshareStatus": "Unknown",
         "departure": {
          "actualTimeLocal": "2021-11-25 09:45+01:00",
          "actualTimeUtc": "2021-11-25 08:45Z",
          "airport": {
           "iata": "BRU",
           "icao": "EBBR",
           "name": "Brussels"
          },
          "checkInDesk": "02",
          "quality": [
           "Basic",
           "Live"
          ],
          "scheduledTimeLocal": "2021-11-25 09:45+01:00",
          "scheduledTimeUtc": "2021-11-25 08:45Z"
         },
         "isCargo": false,
         "number": "SN 2581",
         "status": "Unknown"
        },
        {
         "aircraft": {
          "model": "Airbus A320"
         },
         "airline": {
          "name": "easyJet"
         },
         "arrival": {
          "quality": [
           "Basic"
          ],
          "scheduledTimeLocal": "2021-11-25 11:25+01:00",
          "scheduledTimeUtc": "2021-11-25 10:25Z",
          "terminal": "1"
         },
         "codeshareStatus": "Unknown",
         "departure": {
          "airport": {
           "iata": "MXP",
           "icao": "LIMC",
           "name": "Milan"
          },
          "quality": [
           "Basic"
          ],
          "scheduledTimeLocal": "2021-11-25 09:35+01:00",
          "scheduledTimeUtc": "2021-11-25 08:35Z",
          "terminal": "1"
         },
         "isCargo": false,
         "number": "U2 4672",
         "status": "Unknown"
        },
        {
         "aircraft": {
          "model": "Airbus A320"
         },
         "airline": {
          "name": "easyJet"
         },
         "arrival": {
          "quality": [
           "Basic"
          ],
          "scheduledTimeLocal": "2021-11-25 11:35+01:00",
          "scheduledTimeUtc": "2021-11-25 10:35Z",
          "terminal": "1"
         },
         "codeshareStatus": "Unknown",
         "departure": {
          "airport": {
           "iata": "CDG",
           "icao": "LFPG",
           "name": "Paris"
          },
          "quality": [
           "Basic"
          ],
          "scheduledTimeLocal": "2021-11-25 09:45+01:00",
          "scheduledTimeUtc": "2021-11-25 08:45Z",
          "terminal": "2D"
         },
         "isCargo": false,
         "number": "U2 5652",
         "status": "Unknown"
        },
        {
         "aircraft": {
          "model": "Airbus A320"
         },
         "airline": {
          "name": "easyJet"
         },
         "arrival": {
          "quality": [
           "Basic"
          ],
          "scheduledTimeLocal": "2021-11-25 11:55+01:00",
          "scheduledTimeUtc": "2021-11-25 10:55Z",
          "terminal": "1"
         },
         "codeshareStatus": "Unknown",
         "departure": {
          "airport": {
           "iata": "LGW",
           "icao": "EGKK",
           "name": "London"
          },
          "quality": [
           "Basic"
          ],
          "scheduledTimeLocal": "2021-11-25 08:55+00:00",
          "scheduledTimeUtc": "2021-11-25 08:55Z",
          "terminal": "N"
         },
         "isCargo": false,
         "number": "U2 8209",
         "status": "Unknown"
        },
        {
         "aircraft": {
          "model": "Airbus A319",
          "reg": "D-ABHC"
         },
         "airline": {
          "name": "Eurowings"
         },
         "arrival": {
          "quality": [
           "Basic"
          ],
          "scheduledTimeLocal": "2021-11-25 12:00+01:00",
          "scheduledTimeUtc": "2021-11-25 11:00Z",
          "terminal": "1"
         },
         "codeshareStatus": "Unknown",
         "departure": {
          "actualTimeLocal": "2021-11-25 10:45+01:00",
          "actualTimeUtc": "2021-11-25 09:45Z",
          "airport": {
           "iata": "DUS",
           "icao": "EDDL",
           "name": "Duesseldorf"
          },
          "checkInDesk": "153,170",
          "gate": "A39",
          "quality": [
           "Basic",
           "Live"
          ],
          "scheduledTimeLocal": "2021-11-25 10:45+01:00",
          "scheduledTimeUtc": "2021-11-25 09:45Z",
          "terminal": "B"
         },
         "isCargo": false,
         "number": "EW 9046",
         "status": "Unknown"
        },
        {
         "aircraft": {
          "model": "Boeing 757-300"
         },
         "airline": {
          "name": "Icelandair"
         },
         "arrival": {
          "quality": [
           "Basic"
          ],
          "scheduledTimeLocal": "2021-11-25 12:10+01:00",
          "scheduledTimeUtc": "2021-11-25 11:10Z",
          "terminal": "1"
         },
         "codeshareStatus": "Unknown",
         "departure": {
          "airport": {
           "iata": "KEF",
           "icao": "BIKF",
           "name": "Reykjavik"
          },
          "quality": [
           "Basic"
          ],
          "scheduledTimeLocal": "2021-11-25 07:40+00:00",
          "scheduledTimeUtc": "2021-11-25 07:40Z"
         },
         "isCargo": false,
         "number": "FI 528",
         "status": "Unknown"
        },
        {
         "aircraft": {
          "model": "Boeing 737-800"
         },
         "airline": {
          "name": "Ryanair"
         },
         "arrival": {
          "quality": [
           "Basic"
          ],
          "scheduledTimeLocal": "2021-11-25 12:25+01:00",
          "scheduledTimeUtc": "2021-11-25 11:25Z"
         },
         "codeshareStatus": "Unknown",
         "departure": {
          "airport": {
           "iata": "TGD",
           "icao": "LYPG",
           "name": "Podgorica"
          },
          "quality": [
           "Basic"
          ],
          "scheduledTimeLocal": "2021-11-25 10:15+01:00",
          "scheduledTimeUtc": "2021-11-25 09:15Z"
         },
         "isCargo": false,
         "number": "FR 1579",
         "status": "Unknown"
        },
        {
         "aircraft": {
          "model": "Boeing 737-800"
         },
         "airline": {
          "name": "Ryanair"
         },
         "arrival": {
          "quality": [
           "Basic"
          ],
          "scheduledTimeLocal": "2021-11-25 12:45+01:00",
          "scheduledTimeUtc": "2021-11-25 11:45Z"
         },
         "codeshareStatus": "Unknown",
         "departure": {
          "airport": {
           "iata": "ATH",
           "icao": "LGAV",
           "name": "Athens"
          },
          "quality": [
           "Basic"
          ],
          "scheduledTimeLocal": "2021-11-25 10:45+02:00",
          "scheduledTimeUtc": "2021-11-25 08:45Z"
         },
         "isCargo": false,
         "number": "FR 171",
         "status": "Unknown"
        },
        {
         "aircraft": {
          "model": "Boeing 737-800"
         },
         "airline": {
          "name": "Ryanair"
         },
         "arrival": {
          "quality": [
           "Basic"
          ],
          "scheduledTimeLocal": "2021-11-25 12:30+01:00",
          "scheduledTimeUtc": "2021-11-25 11:30Z"
         },
         "codeshareStatus": "Unknown",
         "departure": {
          "airport": {
           "iata": "PMI",
           "icao": "LEPA",
           "name": "Palma De Mallorca"
          },
          "quality": [
           "Basic"
          ],
          "scheduledTimeLocal": "2021-11-25 09:35+01:00",
          "scheduledTimeUtc": "2021-11-25 08:35Z"
         },
         "isCargo": false,
         "number": "FR 2146",
         "status": "Unknown"
        },
        {
         "aircraft": {
          "model": "Airbus A320",
          "reg": "D-AIUL"
         },
         "airline": {
          "name": "Lufthansa"
         },
         "arrival": {
          "quality": [
           "Basic"
          ],
          "scheduledTimeLocal": "2021-11-25 12:55+01:00",
          "scheduledTimeUtc": "2021-11-25 11:55Z",
          "terminal": "1"
         },
         "codeshareStatus": "IsCodeshared",
         "departure": {
          "actualTimeLocal": "2021-11-25 11:45+01:00",
          "actualTimeUtc": "2021-11-25 10:45Z",
          "airport": {
           "iata": "FRA",
           "icao": "EDDF",
           "name": "Frankfurt-am-Main"
          },
          "checkInDesk": "263-453",
          "gate": "A",
          "quality": [
           "Basic",
           "Live"
          ],
          "scheduledTimeLocal": "2021-11-25 11:45+01:00",
          "scheduledTimeUtc": "2021-11-25 10:45Z",
          "terminal": "1"
         },
         "isCargo": false,
         "number": "LH 182",
         "status": "Unknown"
        },
        {
         "aircraft": {
          "model": "Airbus A320 NEO"
         },
         "airline": {
          "name": "Lufthansa"
         },
         "arrival": {
          "quality": [
           "Basic"
          ],
          "scheduledTimeLocal": "2021-11-25 12:15+01:00",
          "scheduledTimeUtc": "2021-11-25 11:15Z",
          "terminal": "1"
         },
         "codeshareStatus": "IsCodeshared",
         "departure": {
          "airport": {
           "iata": "MUC",
           "icao": "EDDM",
           "name": "Munich"
          },
          "quality": [
           "Basic"
          ],
          "scheduledTimeLocal": "2021-11-25 11:05+01:00",
          "scheduledTimeUtc": "2021-11-25 10:05Z",
          "terminal": "2"
         },
         "isCargo": false,
         "number": "LH 1936",
         "status": "Unknown"
        },
        {
         "aircraft": {
          "model": "Boeing 737-800"
         },
         "airline": {
          "name": "Jet2"
         },
         "arrival": {
          "quality": [
           "Basic"
          ],
          "scheduledTimeLocal": "2021-11-25 12:05+01:00",
          "scheduledTimeUtc": "2021-11-25 11:05Z",
          "terminal": "0"
         },
         "codeshareStatus": "Unknown",
         "departure": {
          "airport": {
           "iata": "LBA",
           "icao": "EGNM",
           "name": "Leeds"
          },
          "quality": [
           "Basic"
          ],
          "scheduledTimeLocal": "2021-11-25 09:00+00:00",
          "scheduledTimeUtc": "2021-11-25 09:00Z"
         },
         "isCargo": false,
         "number": "LS 471",
         "status": "Unknown"
        },
        {
         "aircraft": {
          "model": "Boeing 737-800"
         },
         "airline": {
          "name": "UIA"
         },
         "arrival": {
          "quality": [
           "Basic"
          ],
          "scheduledTimeLocal": "2021-11-25 12:05+01:00",
          "scheduledTimeUtc": "2021-11-25 11:05Z",
          "terminal": "1"
         },
         "codeshareStatus": "Unknown",
         "departure": {
          "actualTimeLocal": "2021-11-25 10:55+02:00",
          "actualTimeUtc": "2021-11-25 08:55Z",
          "airport": {
           "iata": "KBP",
           "icao": "UKBB",
           "name": "Kiev"
          },
          "quality": [
           "Basic",
           "Live"
          ],
          "scheduledTimeLocal": "2021-11-25 10:55+02:00",
          "scheduledTimeUtc": "2021-11-25 08:55Z",
          "terminal": "D"
         },
         "isCargo": false,
         "number": "PS 423",
         "status": "Unknown"
        },
        {
         "aircraft": {
          "model": "Boeing 787-8"
         },
         "airline": {
          "name": "Qatar Airways"
         },
         "arrival": {
          "quality": [
           "Basic"
          ],
          "scheduledTimeLocal": "2021-11-25 12:40+01:00",
          "scheduledTimeUtc": "2021-11-25 11:40Z",
          "terminal": "1"
         },
         "codeshareStatus": "Unknown",
         "departure": {
          "airport": {
           "iata": "DOH",
           "icao": "OTHH",
           "name": "Doha"
          },
          "quality": [
           "Basic"
          ],
          "scheduledTimeLocal": "2021-11-25 08:20+03:00",
          "scheduledTimeUtc": "2021-11-25 05:20Z"
         },
         "isCargo": false,
         "number": "QR 81",
         "status": "Unknown"
        },
        {
         "aircraft": {
          "model": "Airbus A320 NEO"
         },
         "airline": {
          "name": "SAS"
         },
         "arrival": {
          "quality": [
           "Basic"
          ],
          "scheduledTimeLocal": "2021-11-25 12:55+01:00",
          "scheduledTimeUtc": "2021-11-25 11:55Z",
          "terminal": "1"
         },
         "codeshareStatus": "Unknown",
         "departure": {
          "airport": {
           "iata": "OSL",
           "icao": "ENGM",
           "name": "Oslo"
          },
          "checkInDesk": "23",
          "quality": [
           "Basic"
          ],
          "scheduledTimeLocal": "2021-11-25 11:15+01:00",
          "scheduledTimeUtc": "2021-11-25 10:15Z"
         },
         "isCargo": false,
         "number": "SK 4723",
         "status": "Unknown"
        },
        {
         "aircraft": {
          "model": "Boeing 737-800"
         },
         "airline": {
          "name": "Aeroflot"
         },
         "arrival": {
          "quality": [
           "Basic"
          ],
          "scheduledTimeLocal": "2021-11-25 12:55+01:00",
          "scheduledTimeUtc": "2021-11-25 11:55Z",
          "terminal": "1"
         },
         "codeshareStatus": "IsOperator",
         "departure": {
          "actualTimeLocal": "2021-11-25 12:00+03:00",
          "actualTimeUtc": "2021-11-25 09:00Z",
          "airport": {
           "iata": "SVO",
           "icao": "UUEE",
           "name": "Moscow"
          },
          "quality": [
           "Basic",
           "Live"
          ],
          "scheduledTimeLocal": "2021-11-25 12:00+03:00",
          "scheduledTimeUtc": "2021-11-25 09:00Z",
          "terminal": "C"
         },
         "isCargo": false,
         "number": "SU 2662",
         "status": "Unknown"
        },
        {
         "aircraft": {
          "model": "Boeing 737-800"
         },
         "airline": {
          "name": "Turkish"
         },
         "arrival": {
          "quality": [
           "Basic"
          ],
          "scheduledTimeLocal": "2021-11-25 12:30+01:00",
          "scheduledTimeUtc": "2021-11-25 11:30Z",
          "terminal": "1"
         },
         "codeshareStatus": "Unknown",
         "departure": {
          "airport": {
           "iata": "SAW",
           "icao": "LTFJ",
           "name": "Istanbul"
          },
          "quality": [
           "Basic"
          ],
          "scheduledTimeLocal": "2021-11-25 11:30+03:00",
          "scheduledTimeUtc": "2021-11-25 08:30Z"
         },
         "isCargo": false,
         "number": "TK 7728",
         "status": "Unknown"
        },
        {
         "aircraft": {
          "model": "Airbus A320"
         },
         "airline": {
          "name": "Wizz Air"
         },
         "arrival": {
          "quality": [
           "Basic"
          ],
          "scheduledTimeLocal": "2021-11-25 12:15+01:00",
          "scheduledTimeUtc": "2021-11-25 11:15Z",
          "terminal": "0"
         },
         "codeshareStatus": "Unknown",
         "departure": {
          "actualTimeLocal": "2021-11-25 10:45+01:00",
          "actualTimeUtc": "2021-11-25 09:45Z",
          "airport": {
           "iata": "BUD",
           "icao": "LHBP",
           "name": "Budapest"
          },
          "quality": [
           "Basic",
           "Live"
          ],
          "scheduledTimeLocal": "2021-11-25 10:45+01:00",
          "scheduledTimeUtc": "2021-11-25 09:45Z",
          "terminal": "2B"
         },
         "isCargo": false,
         "number": "W6 2315",
         "status": "Unknown"
        },
        {
         "aircraft": {
          "model": "Boeing 737-800"
         },
         "airline": {
          "name": "SunExpress"
         },
         "arrival": {
          "quality": [
           "Basic"
          ],
          "scheduledTimeLocal": "2021-11-25 12:35+01:00",
          "scheduledTimeUtc": "2021-11-25 11:35Z",
          "terminal": "1"
         },
         "codeshareStatus": "Unknown",
         "departure": {
          "actualTimeLocal": "2021-11-25 11:00+03:00",
          "actualTimeUtc": "2021-11-25 08:00Z",
          "airport": {
           "iata": "AYT",
           "icao": "LTAI",
           "name": "Antalya"
          },
          "quality": [
           "Basic",
           "Live"
          ],
          "scheduledTimeLocal": "2021-11-25 11:00+03:00",
          "scheduledTimeUtc": "2021-11-25 08:00Z",
          "terminal": "1"
         },
         "isCargo": false,
         "number": "XQ 160",
         "status": "Unknown"
        },
        {
         "aircraft": {
          "model": "Airbus A320"
         },
         "airline": {
          "name": "Eurowings"
         },
         "arrival": {
          "quality": [
           "Basic"
          ],
          "scheduledTimeLocal": "2021-11-25 13:25+01:00",
          "scheduledTimeUtc": "2021-11-25 12:25Z",
          "terminal": "1"
         },
         "codeshareStatus": "Unknown",
         "departure": {
          "actualTimeLocal": "2021-11-25 12:05+01:00",
          "actualTimeUtc": "2021-11-25 11:05Z",
          "airport": {
           "iata": "STR",
           "icao": "EDDS",
           "name": "Stuttgart"
          },
          "gate": "140",
          "quality": [
           "Basic",
           "Live"
          ],
          "scheduledTimeLocal": "2021-11-25 12:05+01:00",
          "scheduledTimeUtc": "2021-11-25 11:05Z",
          "terminal": "1"
         },
         "isCargo": false,
         "number": "EW 8003",
         "status": "Unknown"
        },
        {
         "aircraft": {
          "model": "Airbus A320"
         },
         "airline": {
          "name": "Eurowings"
         },
         "arrival": {
          "quality": [
           "Basic"
          ],
          "scheduledTimeLocal": "2021-11-25 13:15+01:00",
          "scheduledTimeUtc": "2021-11-25 12:15Z",
          "terminal": "1"
         },
         "codeshareStatus": "Unknown",
         "departure": {
          "airport": {
           "iata": "CGN",
           "icao": "EDDK",
           "name": "Cologne"
          },
          "quality": [
           "Basic"
          ],
          "scheduledTimeLocal": "2021-11-25 12:05+01:00",
          "scheduledTimeUtc": "2021-11-25 11:05Z",
          "terminal": "1"
         },
         "isCargo": false,
         "number": "EW 8051",
         "status": "Unknown"
        },
        {
         "aircraft": {
          "model": "Boeing 737-800"
         },
         "airline": {
          "name": "Ryanair"
         },
         "arrival": {
          "quality": [
           "Basic"
          ],
          "scheduledTimeLocal": "2021-11-25 13:40+01:00",
          "scheduledTimeUtc": "2021-11-25 12:40Z"
         },
         "codeshareStatus": "Unknown",
         "departure": {
          "airport": {
           "iata": "KIR",
           "icao": "EIKY",
           "name": "Killarney"
          },
          "quality": [
           "Basic"
          ],
          "scheduledTimeLocal": "2021-11-25 10:10+00:00",
          "scheduledTimeUtc": "2021-11-25 10:10Z"
         },
         "isCargo": false,
         "number": "FR 1710",
         "status": "Unknown"
        },
        {
         "aircraft": {
          "model": "Boeing 737-800"
         },
         "airline": {
          "name": "Ryanair"
         },
         "arrival": {
          "quality": [
           "Basic"
          ],
          "scheduledTimeLocal": "2021-11-25 13:35+01:00",
          "scheduledTimeUtc": "2021-11-25 12:35Z"
         },
         "codeshareStatus": "Unknown",
         "departure": {
          "airport": {
           "iata": "STN",
           "icao": "EGSS",
           "name": "London"
          },
          "quality": [
           "Basic"
          ],
          "scheduledTimeLocal": "2021-11-25 10:45+00:00",
          "scheduledTimeUtc": "2021-11-25 10:45Z"
         },
         "isCargo": false,
         "number": "FR 176",
         "status": "Unknown"
        },
        {
         "aircraft": {
          "model": "Boeing 737-800"
         },
         "airline": {
          "name": "Ryanair"
         },
         "arrival": {
          "quality": [
           "Basic"
          ],
          "scheduledTimeLocal": "2021-11-25 13:10+01:00",
          "scheduledTimeUtc": "2021-11-25 12:10Z"
         },
         "codeshareStatus": "Unknown",
         "departure": {
          "airport": {
           "iata": "DUB",
           "icao": "EIDW",
           "name": "Dublin"
          },
          "quality": [
           "Basic"
          ],
          "scheduledTimeLocal": "2021-11-25 09:50+00:00",
          "scheduledTimeUtc": "2021-11-25 09:50Z"
         },
         "isCargo": false,
         "number": "FR 8556",
         "status": "Unknown"
        },
        {
         "aircraft": {
          "model": "Boeing 737-800"
         },
         "airline": {
          "name": "Ryanair"
         },
         "arrival": {
          "quality": [
           "Basic"
          ],
          "scheduledTimeLocal": "2021-11-25 13:55+01:00",
          "scheduledTimeUtc": "2021-11-25 12:55Z"
         },
         "codeshareStatus": "Unknown",
         "departure": {
          "airport": {
           "iata": "MXP",
           "icao": "LIMC",
           "name": "Milan"
          },
          "quality": [
           "Basic"
          ],
          "scheduledTimeLocal": "2021-11-25 12:15+01:00",
          "scheduledTimeUtc": "2021-11-25 11:15Z"
         },
         "isCargo": false,
         "number": "FR 9",
         "status": "Unknown"
        },
        {
         "aircraft": {
          "model": "Airbus A319"
         },
         "airline": {
          "name": "Royal Jordanian"
         },
         "arrival": {
          "quality": [
           "Basic"
          ],
          "scheduledTimeLocal": "2021-11-25 13:20+01:00",
          "scheduledTimeUtc": "2021-11-25 12:20Z",
          "terminal": "1"
         },
         "codeshareStatus": "Unknown",
         "departure": {
          "airport": {
           "iata": "AMM",
           "icao": "OJAI",
           "name": "Amman"
          },
          "quality": [
           "Basic"
          ],
          "scheduledTimeLocal": "2021-11-25 09:45+02:00",
          "scheduledTimeUtc": "2021-11-25 07:45Z"
         },
         "isCargo": false,
         "number": "RJ 121",
         "status": "Unknown"
        },
        {
         "aircraft": {
          "model": "Airbus A320 NEO"
         },
         "airline": {
          "name": "SAS"
         },
         "arrival": {
          "quality": [
           "Basic"
          ],
          "scheduledTimeLocal": "2021-11-25 13:00+01:00",
          "scheduledTimeUtc": "2021-11-25 12:00Z",
          "terminal": "1"
         },
         "codeshareStatus": "Unknown",
         "departure": {
          "airport": {
           "iata": "CPH",
           "icao": "EKCH",
           "name": "Copenhagen"
          },
          "quality": [
           "Basic"
          ],
          "scheduledTimeLocal": "2021-11-25 12:05+01:00",
          "scheduledTimeUtc": "2021-11-25 11:05Z",
          "terminal": "3"
         },
         "isCargo": false,
         "number": "SK 1673",
         "status": "Unknown"
        },
        {
         "aircraft": {
          "model": "Airbus A321"
         },
         "airline": {
          "name": "Turkish"
         },
         "arrival": {
          "quality": [
           "Basic"
          ],
          "scheduledTimeLocal": "2021-11-25 13:30+01:00",
          "scheduledTimeUtc": "2021-11-25 12:30Z",
          "terminal": "1"
         },
         "codeshareStatus": "Unknown",
         "departure": {
          "airport": {
           "iata": "IST",
           "icao": "LTFM",
           "name": "Istanbul"
          },
          "quality": [
           "Basic"
          ],
          "scheduledTimeLocal": "2021-11-25 12:40+03:00",
          "scheduledTimeUtc": "2021-11-25 09:40Z"
         },
         "isCargo": false,
         "number": "TK 1725",
         "status": "Unknown"
        },
        {
         "aircraft": {
          "model": "Airbus A320"
         },
         "airline": {
          "name": "easyJet"
         },
         "arrival": {
          "quality": [
           "Basic"
          ],
          "scheduledTimeLocal": "2021-11-25 13:55+01:00",
          "scheduledTimeUtc": "2021-11-25 12:55Z",
          "terminal": "1"
         },
         "codeshareStatus": "Unknown",
         "departure": {
          "airport": {
           "name": "Barcelona"
          },
          "quality": []
         },
         "isCargo": false,
         "number": "U2 5122",
         "status": "Unknown"
        },
        {
         "aircraft": {
          "model": "Airbus A320"
         },
         "airline": {
          "name": "easyJet"
         },
         "arrival": {
          "quality": [
           "Basic"
          ],
          "scheduledTimeLocal": "2021-11-25 13:10+01:00",
          "scheduledTimeUtc": "2021-11-25 12:10Z",
          "terminal": "1"
         },
         "codeshareStatus": "Unknown",
         "departure": {
          "airport": {
           "iata": "NAP",
           "icao": "LIRN",
           "name": "Nápoli"
          },
          "quality": [
           "Basic"
          ],
          "scheduledTimeLocal": "2021-11-25 10:50+01:00",
          "scheduledTimeUtc": "2021-11-25 09:50Z"
         },
         "isCargo": false,
         "number": "U2 5142",
         "status": "Unknown"
        },
        {
         "aircraft": {
          "model": "Airbus A320"
         },
         "airline": {
          "name": "easyJet"
         },
         "arrival": {
          "quality": [
           "Basic"
          ],
          "scheduledTimeLocal": "2021-11-25 13:05+01:00",
          "scheduledTimeUtc": "2021-11-25 12:05Z",
          "terminal": "1"
         },
         "codeshareStatus": "Unknown",
         "departure": {
          "airport": {
           "iata": "CTA",
           "icao": "LICC",
           "name": "Catania"
          },
          "quality": [
           "Basic"
          ],
          "scheduledTimeLocal": "2021-11-25 10:10+01:00",
          "scheduledTimeUtc": "2021-11-25 09:10Z"
         },
         "isCargo": false,
         "number": "U2 5694",
         "status": "Unknown"
        },
        {
         "aircraft": {
          "model": "Embraer 190",
          "reg": "VP-BZH"
         },
         "airline": {
          "name": "Pegas Fly"
         },
         "arrival": {
          "quality": [
           "Basic"
          ],
          "scheduledTimeLocal": "2021-11-25 14:45+01:00",
          "scheduledTimeUtc": "2021-11-25 13:45Z",
          "terminal": "1"
         },
         "codeshareStatus": "Unknown",
         "departure": {
          "actualTimeLocal": "2021-11-25 14:25+03:00",
          "actualTimeUtc": "2021-11-25 11:25Z",
          "airport": {
           "iata": "LED",
           "icao": "ULLI",
           "name": "Saint-Petersburg"
          },
          "checkInDesk": "A317-A318",
          "quality": [
           "Basic",
           "Live"
          ],
          "scheduledTimeLocal": "2021-11-25 14:25+03:00",
          "scheduledTimeUtc": "2021-11-25 11:25Z",
          "terminal": "1"
         },
         "isCargo": false,
         "number": "EO 1909",
         "status": "Unknown"
        },
        {
         "aircraft": {
          "model": "Boeing 737-800"
         },
         "airline": {
          "name": "Ryanair"
         },
         "arrival": {
          "quality": [
           "Basic"
          ],
          "scheduledTimeLocal": "2021-11-25 14:05+01:00",
          "scheduledTimeUtc": "2021-11-25 13:05Z"
         },
         "codeshareStatus": "Unknown",
         "departure": {
          "airport": {
           "iata": "STN",
           "icao": "EGSS",
           "name": "London"
          },
          "quality": [
           "Basic"
          ],
          "scheduledTimeLocal": "2021-11-25 11:15+00:00",
          "scheduledTimeUtc": "2021-11-25 11:15Z"
         },
         "isCargo": false,
         "number": "FR 8542",
         "status": "Unknown"
        },
        {
         "aircraft": {
          "model": "Airbus A320 NEO"
         },
         "airline": {
          "name": "Lufthansa"
         },
         "arrival": {
          "quality": [
           "Basic"
          ],
          "scheduledTimeLocal": "2021-11-25 14:55+01:00",
          "scheduledTimeUtc": "2021-11-25 13:55Z",
          "terminal": "1"
         },
         "codeshareStatus": "IsCodeshared",
         "departure": {
          "actualTimeLocal": "2021-11-25 13:45+01:00",
          "actualTimeUtc": "2021-11-25 12:45Z",
          "airport": {
           "iata": "FRA",
           "icao": "EDDF",
           "name": "Frankfurt-am-Main"
          },
          "quality": [
           "Basic",
           "Live"
          ],
          "scheduledTimeLocal": "2021-11-25 13:45+01:00",
          "scheduledTimeUtc": "2021-11-25 12:45Z",
          "terminal": "1"
         },
         "isCargo": false,
         "number": "LH 186",
         "status": "Unknown"
        },
        {
         "aircraft": {
          "model": "Airbus A320"
         },
         "airline": {
          "name": "SWISS"
         },
         "arrival": {
          "quality": [
           "Basic"
          ],
          "scheduledTimeLocal": "2021-11-25 14:00+01:00",
          "scheduledTimeUtc": "2021-11-25 13:00Z",
          "terminal": "1"
         },
         "codeshareStatus": "Unknown",
         "departure": {
          "actualTimeLocal": "2021-11-25 12:35+01:00",
          "actualTimeUtc": "2021-11-25 11:35Z",
          "airport": {
           "iata": "ZRH",
           "icao": "LSZH",
           "name": "Zurich"
          },
          "checkInDesk": "1",
          "quality": [
           "Basic",
           "Live"
          ],
          "scheduledTimeLocal": "2021-11-25 12:35+01:00",
          "scheduledTimeUtc": "2021-11-25 11:35Z"
         },
         "isCargo": false,
         "number": "LX 966",
         "status": "Unknown"
        },
        {
         "aircraft": {
          "model": "Airbus A320"
         },
         "airline": {
          "name": "Vueling"
         },
         "arrival": {
          "quality": [
           "Basic"
          ],
          "scheduledTimeLocal": "2021-11-25 14:10+01:00",
          "scheduledTimeUtc": "2021-11-25 13:10Z",
          "terminal": "1"
         },
         "codeshareStatus": "Unknown",
         "departure": {
          "actualTimeLocal": "2021-11-25 11:30+01:00",
          "actualTimeUtc": "2021-11-25 10:30Z",
          "airport": {
           "iata": "BCN",
           "icao": "LEBL",
           "name": "Barcelona"
          },
          "quality": [
           "Basic",
           "Live"
          ],
          "scheduledTimeLocal": "2021-11-25 11:30+01:00",
          "scheduledTimeUtc": "2021-11-25 10:30Z",
          "terminal": "1"
         },
         "isCargo": false,
         "number": "VY 1882",
         "status": "Unknown"
        },
        {
         "aircraft": {
          "model": "Embraer 190"
         },
         "airline": {
          "name": "British Airways"
         },
         "arrival": {
          "quality": [
           "Basic"
          ],
          "scheduledTimeLocal": "2021-11-25 15:55+01:00",
          "scheduledTimeUtc": "2021-11-25 14:55Z",
          "terminal": "1"
         },
         "codeshareStatus": "IsCodeshared",
         "departure": {
          "airport": {
           "iata": "LCY",
           "icao": "EGLC",
           "name": "London"
          },
          "quality": [
           "Basic"
          ],
          "scheduledTimeLocal": "2021-11-25 13:15+00:00",
          "scheduledTimeUtc": "2021-11-25 13:15Z"
         },
         "isCargo": false,
         "number": "BA 8493",
         "status": "Unknown"
        },
        {
         "aircraft": {
          "model": "Airbus A320"
         },
         "airline": {
          "name": "Eurowings"
         },
         "arrival": {
          "quality": [
           "Basic"
          ],
          "scheduledTimeLocal": "2021-11-25 15:45+01:00",
          "scheduledTimeUtc": "2021-11-25 14:45Z",
          "terminal": "1"
         },
         "codeshareStatus": "Unknown",
         "departure": {
          "actualTimeLocal": "2021-11-25 14:25+01:00",
          "actualTimeUtc": "2021-11-25 13:25Z",
          "airport": {
           "iata": "STR",
           "icao": "EDDS",
           "name": "Stuttgart"
          },
          "gate": "114",
          "quality": [
           "Basic",
           "Live"
          ],
          "scheduledTimeLocal": "2021-11-25 14:25+01:00",
          "scheduledTimeUtc": "2021-11-25 13:25Z",
          "terminal": "1"
         },
         "isCargo": false,
         "number": "EW 2004",
         "status": "Unknown"
        },
        {
         "aircraft": {
          "model": "Airbus A320",
          "reg": "D-AGWU"
         },
         "airline": {
          "name": "Eurowings"
         },
         "arrival": {
          "quality": [
           "Basic"
          ],
          "scheduledTimeLocal": "2021-11-25 15:50+01:00",
          "scheduledTimeUtc": "2021-11-25 14:50Z",
          "terminal": "1"
         },
         "codeshareStatus": "Unknown",
         "departure": {
          "actualTimeLocal": "2021-11-25 14:35+01:00",
          "actualTimeUtc": "2021-11-25 13:35Z",
          "airport": {
           "iata": "DUS",
           "icao": "EDDL",
           "name": "Duesseldorf"
          },
          "checkInDesk": "153,170",
          "gate": "A26",
          "quality": [
           "Basic",
           "Live"
          ],
          "scheduledTimeLocal": "2021-11-25 14:35+01:00",
          "scheduledTimeUtc": "2021-11-25 13:35Z",
          "terminal": "B"
         },
         "isCargo": false,
         "number": "EW 9042",
         "status": "Unknown"
        },
        {
         "aircraft": {
          "model": "Boeing 737-800"
         },
         "airline": {
          "name": "Ryanair"
         },
         "arrival": {
          "quality": [
           "Basic"
          ],
          "scheduledTimeLocal": "2021-11-25 15:35+01:00",
          "scheduledTimeUtc": "2021-11-25 14:35Z"
         },
         "codeshareStatus": "Unknown",
         "departure": {
          "actualTimeLocal": "2021-11-25 12:40+00:00",
          "actualTimeUtc": "2021-11-25 12:40Z",
          "airport": {
           "iata": "MAN",
           "icao": "EGCC",
           "name": "Manchester"
          },
          "quality": [
           "Basic",
           "Live"
          ],
          "scheduledTimeLocal": "2021-11-25 12:40+00:00",
          "scheduledTimeUtc": "2021-11-25 12:40Z",
          "terminal": "T1"
         },
         "isCargo": false,
         "number": "FR 1145",
         "status": "Unknown"
        },
        {
         "aircraft": {
          "model": "Boeing 737-800"
         },
         "airline": {
          "name": "Ryanair"
         },
         "arrival": {
          "quality": [
           "Basic"
          ],
          "scheduledTimeLocal": "2021-11-25 15:05+01:00",
          "scheduledTimeUtc": "2021-11-25 14:05Z"
         },
         "codeshareStatus": "Unknown",
         "departure": {
          "airport": {
           "iata": "TSF",
           "icao": "LIPH",
           "name": "Treviso"
          },
          "quality": [
           "Basic"
          ],
          "scheduledTimeLocal": "2021-11-25 13:30+01:00",
          "scheduledTimeUtc": "2021-11-25 12:30Z"
         },
         "isCargo": false,
         "number": "FR 4721",
         "status": "Unknown"
        },
        {
         "aircraft": {
          "model": "Boeing 737-800"
         },
         "airline": {
          "name": "Ryanair"
         },
         "arrival": {
          "quality": [
           "Basic"
          ],
          "scheduledTimeLocal": "2021-11-25 15:30+01:00",
          "scheduledTimeUtc": "2021-11-25 14:30Z"
         },
         "codeshareStatus": "Unknown",
         "departure": {
          "airport": {
           "iata": "TLV",
           "icao": "LLBG",
           "name": "Tel Aviv Yafo"
          },
          "quality": [
           "Basic"
          ],
          "scheduledTimeLocal": "2021-11-25 12:15+02:00",
          "scheduledTimeUtc": "2021-11-25 10:15Z"
         },
         "isCargo": false,
         "number": "FR 6473",
         "status": "Unknown"
        },
        {
         "aircraft": {
          "model": "Airbus A321"
         },
         "airline": {
          "name": "Lufthansa"
         },
         "arrival": {
          "quality": [
           "Basic"
          ],
          "scheduledTimeLocal": "2021-11-25 15:55+01:00",
          "scheduledTimeUtc": "2021-11-25 14:55Z",
          "terminal": "1"
         },
         "codeshareStatus": "IsCodeshared",
         "departure": {
          "actualTimeLocal": "2021-11-25 14:45+01:00",
          "actualTimeUtc": "2021-11-25 13:45Z",
          "airport": {
           "iata": "FRA",
           "icao": "EDDF",
           "name": "Frankfurt-am-Main"
          },
          "quality": [
           "Basic",
           "Live"
          ],
          "scheduledTimeLocal": "2021-11-25 14:45+01:00",
          "scheduledTimeUtc": "2021-11-25 13:45Z",
          "terminal": "1"
         },
         "isCargo": false,
         "number": "LH 188",
         "status": "Unknown"
        },
        {
         "aircraft": {
          "model": "Airbus A320"
         },
         "airline": {
          "name": "Lufthansa"
         },
         "arrival": {
          "quality": [
           "Basic"
          ],
          "scheduledTimeLocal": "2021-11-25 15:25+01:00",
          "scheduledTimeUtc": "2021-11-25 14:25Z",
          "terminal": "1"
         },
         "codeshareStatus": "IsCodeshared",
         "departure": {
          "airport": {
           "iata": "MUC",
           "icao": "EDDM",
           "name": "Munich"
          },
          "quality": [
           "Basic"
          ],
          "scheduledTimeLocal": "2021-11-25 14:15+01:00",
          "scheduledTimeUtc": "2021-11-25 13:15Z",
          "terminal": "2"
         },
         "isCargo": false,
         "number": "LH 1944",
         "status": "Unknown"
        },
        {
         "aircraft": {
          "model": "Airbus A320"
         },
         "airline": {
          "name": "easyJet"
         },
         "arrival": {
          "quality": [
           "Basic"
          ],
          "scheduledTimeLocal": "2021-11-25 15:30+01:00",
          "scheduledTimeUtc": "2021-11-25 14:30Z",
          "terminal": "1"
         },
         "codeshareStatus": "Unknown",
         "departure": {
          "airport": {
           "iata": "AGP",
           "icao": "LEMG",
           "name": "Málaga"
          },
          "quality": [
           "Basic"
          ],
          "scheduledTimeLocal": "2021-11-25 11:50+01:00",
          "scheduledTimeUtc": "2021-11-25 10:50Z"
         },
         "isCargo": false,
         "number": "U2 5914",
         "status": "Unknown"
        },
        {
         "aircraft": {
          "model": "Boeing 737-800"
         },
         "airline": {
          "name": "Ryanair"
         },
         "arrival": {
          "quality": [
           "Basic"
          ],
          "scheduledTimeLocal": "2021-11-25 16:55+01:00",
          "scheduledTimeUtc": "2021-11-25 15:55Z"
         },
         "codeshareStatus": "Unknown",
         "departure": {
          "actualTimeLocal": "2021-11-25 10:55+00:00",
          "actualTimeUtc": "2021-11-25 10:55Z",
          "airport": {
           "iata": "FUE",
           "icao": "GCFV",
           "name": "Fuerteventura Island"
          },
          "quality": [
           "Basic",
           "Live"
          ],
          "scheduledTimeLocal": "2021-11-25 10:55+00:00",
          "scheduledTimeUtc": "2021-11-25 10:55Z"
         },
         "isCargo": false,
         "number": "FR 1102",
         "status": "Unknown"
        },
        {
         "aircraft": {
          "model": "Boeing 737-800"
         },
         "airline": {
          "name": "Ryanair"
         },
         "arrival": {
          "quality": [
           "Basic"
          ],
          "scheduledTimeLocal": "2021-11-25 16:50+01:00",
          "scheduledTimeUtc": "2021-11-25 15:50Z"
         },
         "codeshareStatus": "Unknown",
         "departure": {
          "actualTimeLocal": "2021-11-25 14:05+01:00",
          "actualTimeUtc": "2021-11-25 13:05Z",
          "airport": {
           "iata": "PMI",
           "icao": "LEPA",
           "name": "Palma De Mallorca"
          },
          "checkInDesk": "036-038",
          "quality": [
           "Basic",
           "Live"
          ],
          "scheduledTimeLocal": "2021-11-25 14:05+01:00",
          "scheduledTimeUtc": "2021-11-25 13:05Z",
          "terminal": "N"
         },
         "isCargo": false,
         "number": "FR 111",
         "status": "Unknown"
        },
        {
         "aircraft": {
          "model": "Boeing 737-800"
         },
         "airline": {
          "name": "Ryanair"
         },
         "arrival": {
          "quality": [
           "Basic"
          ],
          "scheduledTimeLocal": "2021-11-25 16:00+01:00",
          "scheduledTimeUtc": "2021-11-25 15:00Z"
         },
         "codeshareStatus": "Unknown",
         "departure": {
          "airport": {
           "iata": "MRS",
           "icao": "LFML",
           "name": "Marseille"
          },
          "quality": [
           "Basic"
          ],
          "scheduledTimeLocal": "2021-11-25 13:55+01:00",
          "scheduledTimeUtc": "2021-11-25 12:55Z"
         },
         "isCargo": false,
         "number": "FR 8950",
         "status": "Unknown"
        },
        {
         "aircraft": {
          "model": "Embraer 190"
         },
         "airline": {
          "name": "KLM"
         },
         "arrival": {
          "quality": [
           "Basic"
          ],
          "scheduledTimeLocal": "2021-11-25 16:40+01:00",
          "scheduledTimeUtc": "2021-11-25 15:40Z",
          "terminal": "1"
         },
         "codeshareStatus": "IsOperator",
         "departure": {
          "airport": {
           "iata": "AMS",
           "icao": "EHAM",
           "name": "Amsterdam"
          },
          "checkInDesk": "5-8",
          "quality": [
           "Basic"
          ],
          "scheduledTimeLocal": "2021-11-25 15:20+01:00",
          "scheduledTimeUtc": "2021-11-25 14:20Z",
          "terminal": "1"
         },
         "isCargo": false,
         "number": "KL 1829",
         "status": "Unknown"
        },
        {
         "aircraft": {
          "model": "Airbus A320 NEO"
         },
         "airline": {
          "name": "Lufthansa"
         },
         "arrival": {
          "quality": [
           "Basic"
          ],
          "scheduledTimeLocal": "2021-11-25 16:55+01:00",
          "scheduledTimeUtc": "2021-11-25 15:55Z",
          "terminal": "1"
         },
         "codeshareStatus": "IsCodeshared",
         "departure": {
          "airport": {
           "iata": "MUC",
           "icao": "EDDM",
           "name": "Munich"
          },
          "quality": [
           "Basic"
          ],
          "scheduledTimeLocal": "2021-11-25 15:45+01:00",
          "scheduledTimeUtc": "2021-11-25 14:45Z",
          "terminal": "2"
         },
         "isCargo": false,
         "number": "LH 1942",
         "status": "Unknown"
        },
        {
         "aircraft": {
          "model": "Airbus A320"
         },
         "airline": {
          "name": "Austrian"
         },
         "arrival": {
          "quality": [
           "Basic"
          ],
          "scheduledTimeLocal": "2021-11-25 16:15+01:00",
          "scheduledTimeUtc": "2021-11-25 15:15Z",
          "terminal": "1"
         },
         "codeshareStatus": "Unknown",
         "departure": {
          "airport": {
           "iata": "VIE",
           "icao": "LOWW",
           "name": "Vienna"
          },
          "quality": [
           "Basic"
          ],
          "scheduledTimeLocal": "2021-11-25 15:00+01:00",
          "scheduledTimeUtc": "2021-11-25 14:00Z",
          "terminal": "3"
         },
         "isCargo": false,
         "number": "OS 231",
         "status": "Unknown"
        },
        {
         "aircraft": {
          "model": "Airbus A320"
         },
         "airline": {
          "name": "TAP Air Portugal"
         },
         "arrival": {
          "quality": [
           "Basic"
          ],
          "scheduledTimeLocal": "2021-11-25 16:35+01:00",
          "scheduledTimeUtc": "2021-11-25 15:35Z",
          "terminal": "1"
         },
         "codeshareStatus": "Unknown",
         "departure": {
          "actualTimeLocal": "2021-11-25 12:05+00:00",
          "actualTimeUtc": "2021-11-25 12:05Z",
          "airport": {
           "iata": "LIS",
           "icao": "LPPT",
           "name": "Lisbon"
          },
          "quality": [
           "Basic",
           "Live"
          ],
          "scheduledTimeLocal": "2021-11-25 12:05+00:00",
          "scheduledTimeUtc": "2021-11-25 12:05Z",
          "terminal": "T1"
         },
         "isCargo": false,
         "number": "TP 534",
         "status": "Unknown"
        },
        {
         "aircraft": {
          "model": "Airbus A320"
         },
         "airline": {
          "name": "easyJet"
         },
         "arrival": {
          "quality": [
           "Basic"
          ],
          "scheduledTimeLocal": "2021-11-25 16:45+01:00",
          "scheduledTimeUtc": "2021-11-25 15:45Z",
          "terminal": "1"
         },
         "codeshareStatus": "Unknown",
         "departure": {
          "airport": {
           "iata": "TLV",
           "icao": "LLBG",
           "name": "Tel Aviv Yafo"
          },
          "quality": [
           "Basic"
          ],
          "scheduledTimeLocal": "2021-11-25 13:10+02:00",
          "scheduledTimeUtc": "2021-11-25 11:10Z",
          "terminal": "3"
         },
         "isCargo": false,
         "number": "U2 5202",
         "status": "Unknown"
        },
        {
         "aircraft": {
          "model": "Airbus A320"
         },
         "airline": {
          "name": "Air France"
         },
         "arrival": {
          "quality": [
           "Basic"
          ],
          "scheduledTimeLocal": "2021-11-25 17:10+01:00",
          "scheduledTimeUtc": "2021-11-25 16:10Z",
          "terminal": "1"
         },
         "codeshareStatus": "Unknown",
         "departure": {
          "airport": {
           "iata": "CDG",
           "icao": "LFPG",
           "name": "Paris"
          },
          "quality": [
           "Basic"
          ],
          "scheduledTimeLocal": "2021-11-25 15:30+01:00",
          "scheduledTimeUtc": "2021-11-25 14:30Z",
          "terminal": "2F"
         },
         "isCargo": false,
         "number": "AF 1834",
         "status": "Unknown"
        },
        {
         "aircraft": {
          "model": "Airbus A321"
         },
         "airline": {
          "name": "Condor"
         },
         "arrival": {
          "quality": [
           "Basic"
          ],
          "scheduledTimeLocal": "2021-11-25 17:55+01:00",
          "scheduledTimeUtc": "2021-11-25 16:55Z",
          "terminal": "1"
         },
         "codeshareStatus": "Unknown",
         "departure": {
          "airport": {
           "iata": "HRG",
           "icao": "HEGN",
           "name": "Hurghada"
          },
          "quality": [
           "Basic"
          ],
          "scheduledTimeLocal": "2021-11-25 14:00+02:00",
          "scheduledTimeUtc": "2021-11-25 12:00Z",
          "terminal": "1"
         },
         "isCargo": false,
         "number": "DE 433",
         "status": "Unknown"
        },
        {
         "aircraft": {
          "model": "Airbus A319"
         },
         "airline": {
          "name": "Eurowings"
         },
         "arrival": {
          "quality": [
           "Basic"
          ],
          "scheduledTimeLocal": "2021-11-25 17:05+01:00",
          "scheduledTimeUtc": "2021-11-25 16:05Z",
          "terminal": "1"
         },
         "codeshareStatus": "Unknown",
         "departure": {
          "actualTimeLocal": "2021-11-25 15:45+01:00",
          "actualTimeUtc": "2021-11-25 14:45Z",
          "airport": {
           "iata": "STR",
           "icao": "EDDS",
           "name": "Stuttgart"
          },
          "gate": "140",
          "quality": [
           "Basic",
           "Live"
          ],
          "scheduledTimeLocal": "2021-11-25 15:45+01:00",
          "scheduledTimeUtc": "2021-11-25 14:45Z",
          "terminal": "1"
         },
         "isCargo": false,
         "number": "EW 2058",
         "status": "Unknown"
        },
        {
         "aircraft": {
          "model": "Airbus A320"
         },
         "airline": {
          "name": "Eurowings"
         },
         "arrival": {
          "quality": [
           "Basic"
          ],
          "scheduledTimeLocal": "2021-11-25 17:35+01:00",
          "scheduledTimeUtc": "2021-11-25 16:35Z",
          "terminal": "1"
         },
         "codeshareStatus": "Unknown",
         "departure": {
          "airport": {
           "iata": "CGN",
           "icao": "EDDK",
           "name": "Cologne"
          },
          "quality": [
           "Basic"
          ],
          "scheduledTimeLocal": "2021-11-25 16:25+01:00",
          "scheduledTimeUtc": "2021-11-25 15:25Z",
          "terminal": "1"
         },
         "isCargo": false,
         "number": "EW 6",
         "status": "Unknown"
        },
        {
         "aircraft": {
          "model": "Airbus A320"
         },
         "airline": {
          "name": "Eurowings"
         },
         "arrival": {
          "quality": [
           "Basic"
          ],
          "scheduledTimeLocal": "2021-11-25 17:55+01:00",
          "scheduledTimeUtc": "2021-11-25 16:55Z",
          "terminal": "1"
         },
         "codeshareStatus": "Unknown",
         "departure": {
          "actualTimeLocal": "2021-11-25 16:40+01:00",
          "actualTimeUtc": "2021-11-25 15:40Z",
          "airport": {
           "iata": "DUS",
           "icao": "EDDL",
           "name": "Duesseldorf"
          },
          "checkInDesk": "153,170",
          "gate": "A42",
          "quality": [
           "Basic",
           "Live"
          ],
          "scheduledTimeLocal": "2021-11-25 16:40+01:00",
          "scheduledTimeUtc": "2021-11-25 15:40Z",
          "terminal": "B"
         },
         "isCargo": false,
         "number": "EW 8045",
         "status": "Unknown"
        },
        {
         "aircraft": {
          "model": "Boeing 737-800"
         },
         "airline": {
          "name": "Ryanair"
         },
         "arrival": {
          "quality": [
           "Basic"
          ],
          "scheduledTimeLocal": "2021-11-25 17:35+01:00",
          "scheduledTimeUtc": "2021-11-25 16:35Z"
         },
         "codeshareStatus": "Unknown",
         "departure": {
          "airport": {
           "iata": "INI",
           "icao": "LYNI",
           "name": "Niš"
          },
          "quality": [
           "Basic"
          ],
          "scheduledTimeLocal": "2021-11-25 15:30+01:00",
          "scheduledTimeUtc": "2021-11-25 14:30Z"
         },
         "isCargo": false,
         "number": "FR 1106",
         "status": "Unknown"
        },
        {
         "aircraft": {
          "model": "Boeing 737-800"
         },
         "airline": {
          "name": "Ryanair"
         },
         "arrival": {
          "quality": [
           "Basic"
          ],
          "scheduledTimeLocal": "2021-11-25 17:00+01:00",
          "scheduledTimeUtc": "2021-11-25 16:00Z"
         },
         "codeshareStatus": "Unknown",
         "departure": {
          "actualTimeLocal": "2021-11-25 14:15+01:00",
          "actualTimeUtc": "2021-11-25 13:15Z",
          "airport": {
           "iata": "BCN",
           "icao": "LEBL",
           "name": "Barcelona"
          },
          "quality": [
           "Basic",
           "Live"
          ],
          "scheduledTimeLocal": "2021-11-25 14:15+01:00",
          "scheduledTimeUtc": "2021-11-25 13:15Z",
          "terminal": "2"
         },
         "isCargo": false,
         "number": "FR 133",
         "status": "Unknown"
        },
        {
         "aircraft": {
          "model": "Boeing 737-800"
         },
         "airline": {
          "name": "Ryanair"
         },
         "arrival": {
          "quality": [
           "Basic"
          ],
          "scheduledTimeLocal": "2021-11-25 17:15+01:00",
          "scheduledTimeUtc": "2021-11-25 16:15Z"
         },
         "codeshareStatus": "Unknown",
         "departure": {
          "actualTimeLocal": "2021-11-25 11:05+00:00",
          "actualTimeUtc": "2021-11-25 11:05Z",
          "airport": {
           "iata": "TFS",
           "icao": "GCTS",
           "name": "Tenerife Island"
          },
          "quality": [
           "Basic",
           "Live"
          ],
          "scheduledTimeLocal": "2021-11-25 11:05+00:00",
          "scheduledTimeUtc": "2021-11-25 11:05Z"
         },
         "isCargo": false,
         "number": "FR 4067",
         "status": "Unknown"
        },
        {
         "aircraft": {
          "model": "Airbus A320"
         },
         "airline": {
          "name": "Lufthansa"
         },
         "arrival": {
          "quality": [
           "Basic"
          ],
          "scheduledTimeLocal": "2021-11-25 17:55+01:00",
          "scheduledTimeUtc": "2021-11-25 16:55Z",
          "terminal": "1"
         },
         "codeshareStatus": "IsCodeshared",
         "departure": {
          "actualTimeLocal": "2021-11-25 16:45+01:00",
          "actualTimeUtc": "2021-11-25 15:45Z",
          "airport": {
           "iata": "FRA",
           "icao": "EDDF",
           "name": "Frankfurt-am-Main"
          },
          "quality": [
           "Basic",
           "Live"
          ],
          "scheduledTimeLocal": "2021-11-25 16:45+01:00",
          "scheduledTimeUtc": "2021-11-25 15:45Z",
          "terminal": "1"
         },
         "isCargo": false,
         "number": "LH 192",
         "status": "Unknown"
        },
        {
         "aircraft": {
          "model": "Bombardier CRJ900"
         },
         "airline": {
          "name": "Lufthansa"
         },
         "arrival": {
          "quality": [
           "Basic"
          ],
          "scheduledTimeLocal": "2021-11-25 17:40+01:00",
          "scheduledTimeUtc": "2021-11-25 16:40Z",
          "terminal": "1"
         },
         "codeshareStatus": "IsCodeshared",
         "departure": {
          "airport": {
           "iata": "MUC",
           "icao": "EDDM",
           "name": "Munich"
          },
          "quality": [
           "Basic"
          ],
          "scheduledTimeLocal": "2021-11-25 16:30+01:00",
          "scheduledTimeUtc": "2021-11-25 15:30Z",
          "terminal": "2"
         },
         "isCargo": false,
         "number": "LH 1946",
         "status": "Unknown"
        },
        {
         "aircraft": {
          "model": "Embraer 175"
         },
         "airline": {
          "name": "LOT - Polish"
         },
         "arrival": {
          "quality": [
           "Basic"
          ],
          "scheduledTimeLocal": "2021-11-25 17:45+01:00",
          "scheduledTimeUtc": "2021-11-25 16:45Z",
          "terminal": "1"
         },
         "codeshareStatus": "Unknown",
         "departure": {
          "airport": {
           "iata": "WAW",
           "icao": "EPWA",
           "name": "Warsaw"
          },
          "quality": [
           "Basic"
          ],
          "scheduledTimeLocal": "2021-11-25 16:20+01:00",
          "scheduledTimeUtc": "2021-11-25 15:20Z"
         },
         "isCargo": false,
         "number": "LO 389",
         "status": "Unknown"
        },
        {
         "aircraft": {
          "model": "Airbus A320"
         },
         "airline": {
          "name": "Brussels"
         },
         "arrival": {
          "quality": [
           "Basic"
          ],
          "scheduledTimeLocal": "2021-11-25 17:50+01:00",
          "scheduledTimeUtc": "2021-11-25 16:50Z",
          "terminal": "1"
         },
         "codeshareStatus": "Unknown",
         "departure": {
          "actualTimeLocal": "2021-11-25 16:30+01:00",
          "actualTimeUtc": "2021-11-25 15:30Z",
          "airport": {
           "iata": "BRU",
           "icao": "EBBR",
           "name": "Brussels"
          },
          "checkInDesk": "02",
          "quality": [
           "Basic",
           "Live"
          ],
          "scheduledTimeLocal": "2021-11-25 16:30+01:00",
          "scheduledTimeUtc": "2021-11-25 15:30Z"
         },
         "isCargo": false,
         "number": "SN 2587",
         "status": "Unknown"
        },
        {
         "aircraft": {
          "model": "Airbus A321"
         },
         "airline": {
          "name": "Turkish"
         },
         "arrival": {
          "quality": [
           "Basic"
          ],
          "scheduledTimeLocal": "2021-11-25 17:30+01:00",
          "scheduledTimeUtc": "2021-11-25 16:30Z",
          "terminal": "1"
         },
         "codeshareStatus": "Unknown",
         "departure": {
          "airport": {
           "iata": "IST",
           "icao": "LTFM",
           "name": "Istanbul"
          },
          "quality": [
           "Basic"
          ],
          "scheduledTimeLocal": "2021-11-25 16:40+03:00",
          "scheduledTimeUtc": "2021-11-25 13:40Z"
         },
         "isCargo": false,
         "number": "TK 1723",
         "status": "Unknown"
        },
        {
         "aircraft": {
          "model": "Airbus A320"
         },
         "airline": {
          "name": "Finnair"
         },
         "arrival": {
          "quality": [
           "Basic"
          ],
          "scheduledTimeLocal": "2021-11-25 18:25+01:00",
          "scheduledTimeUtc": "2021-11-25 17:25Z",
          "terminal": "1"
         },
         "codeshareStatus": "Unknown",
         "departure": {
          "actualTimeLocal": "2021-11-25 17:25+02:00",
          "actualTimeUtc": "2021-11-25 15:25Z",
          "airport": {
           "iata": "HEL",
           "icao": "EFHK",
           "name": "Helsinki"
          },
          "checkInDesk": "507-517",
          "quality": [
           "Basic",
           "Live"
          ],
          "scheduledTimeLocal": "2021-11-25 17:25+02:00",
          "scheduledTimeUtc": "2021-11-25 15:25Z",
          "terminal": "T2-500"
         },
         "isCargo": false,
         "number": "AY 1435",
         "status": "Unknown"
        },
        {
         "aircraft": {
          "model": "Airbus A319"
         },
         "airline": {
          "name": "British Airways"
         },
         "arrival": {
          "quality": [
           "Basic"
          ],
          "scheduledTimeLocal": "2021-11-25 18:50+01:00",
          "scheduledTimeUtc": "2021-11-25 17:50Z",
          "terminal": "1"
         },
         "codeshareStatus": "IsCodeshared",
         "departure": {
          "actualTimeLocal": "2021-11-25 15:55+00:00",
          "actualTimeUtc": "2021-11-25 15:55Z",
          "airport": {
           "iata": "LHR",
           "icao": "EGLL",
           "name": "London"
          },
          "checkInDesk": "G",
          "quality": [
           "Basic",
           "Live"
          ],
          "scheduledTimeLocal": "2021-11-25 15:55+00:00",
          "scheduledTimeUtc": "2021-11-25 15:55Z",
          "terminal": "5"
         },
         "isCargo": false,
         "number": "BA 986",
         "status": "Unknown"
        },
        {
         "aircraft": {
          "model": "Airbus A320"
         },
         "airline": {
          "name": "Eurowings"
         },
         "arrival": {
          "quality": [
           "Basic"
          ],
          "scheduledTimeLocal": "2021-11-25 18:20+01:00",
          "scheduledTimeUtc": "2021-11-25 17:20Z",
          "terminal": "1"
         },
         "codeshareStatus": "Unknown",
         "departure": {
          "actualTimeLocal": "2021-11-25 12:15+00:00",
          "actualTimeUtc": "2021-11-25 12:15Z",
          "airport": {
           "iata": "FUE",
           "icao": "GCFV",
           "name": "Fuerteventura Island"
          },
          "quality": [
           "Basic",
           "Live"
          ],
          "scheduledTimeLocal": "2021-11-25 12:15+00:00",
          "scheduledTimeUtc": "2021-11-25 12:15Z"
         },
         "isCargo": false,
         "number": "EW 8181",
         "status": "Unknown"
        },
        {
         "aircraft": {
          "model": "Boeing 737-800"
         },
         "airline": {
          "name": "Ryanair"
         },
         "arrival": {
          "quality": [
           "Basic"
          ],
          "scheduledTimeLocal": "2021-11-25 18:10+01:00",
          "scheduledTimeUtc": "2021-11-25 17:10Z"
         },
         "codeshareStatus": "Unknown",
         "departure": {
          "airport": {
           "iata": "VNO",
           "icao": "EYVI",
           "name": "Vilnius"
          },
          "quality": [
           "Basic"
          ],
          "scheduledTimeLocal": "2021-11-25 17:30+02:00",
          "scheduledTimeUtc": "2021-11-25 15:30Z"
         },
         "isCargo": false,
         "number": "FR 1571",
         "status": "Unknown"
        },
        {
         "aircraft": {
          "model": "Boeing 737-800"
         },
         "airline": {
          "name": "Ryanair"
         },
         "arrival": {
          "quality": [
           "Basic"
          ],
          "scheduledTimeLocal": "2021-11-25 18:40+01:00",
          "scheduledTimeUtc": "2021-11-25 17:40Z"
         },
         "codeshareStatus": "Unknown",
         "departure": {
          "actualTimeLocal": "2021-11-25 15:20+00:00",
          "actualTimeUtc": "2021-11-25 15:20Z",
          "airport": {
           "iata": "DUB",
           "icao": "EIDW",
           "name": "Dublin"
          },
          "checkInDesk": "1204-1319",
          "gate": "119",
          "quality": [
           "Basic",
           "Live"
          ],
          "scheduledTimeLocal": "2021-11-25 15:20+00:00",
          "scheduledTimeUtc": "2021-11-25 15:20Z",
          "terminal": "T1"
         },
         "isCargo": false,
         "number": "FR 8558",
         "status": "Unknown"
        },
        {
         "aircraft": {
          "model": "Embraer 190"
         },
         "airline": {
          "name": "KLM"
         },
         "arrival": {
          "quality": [
           "Basic"
          ],
          "scheduledTimeLocal": "2021-11-25 18:00+01:00",
          "scheduledTimeUtc": "2021-11-25 17:00Z",
          "terminal": "1"
         },
         "codeshareStatus": "IsOperator",
         "departure": {
          "airport": {
           "iata": "AMS",
           "icao": "EHAM",
           "name": "Amsterdam"
          },
          "checkInDesk": "5-8",
          "quality": [
           "Basic"
          ],
          "scheduledTimeLocal": "2021-11-25 16:45+01:00",
          "scheduledTimeUtc": "2021-11-25 15:45Z",
          "terminal": "1"
         },
         "isCargo": false,
         "number": "KL 1831",
         "status": "Unknown"
        },
        {
         "aircraft": {
          "model": "Airbus A320 NEO"
         },
         "airline": {
          "name": "Lufthansa"
         },
         "arrival": {
          "quality": [
           "Basic"
          ],
          "scheduledTimeLocal": "2021-11-25 18:55+01:00",
          "scheduledTimeUtc": "2021-11-25 17:55Z",
          "terminal": "1"
         },
         "codeshareStatus": "IsCodeshared",
         "departure": {
          "actualTimeLocal": "2021-11-25 17:45+01:00",
          "actualTimeUtc": "2021-11-25 16:45Z",
          "airport": {
           "iata": "FRA",
           "icao": "EDDF",
           "name": "Frankfurt-am-Main"
          },
          "quality": [
           "Basic",
           "Live"
          ],
          "scheduledTimeLocal": "2021-11-25 17:45+01:00",
          "scheduledTimeUtc": "2021-11-25 16:45Z",
          "terminal": "1"
         },
         "isCargo": false,
         "number": "LH 194",
         "status": "Unknown"
        },
        {
         "aircraft": {
          "model": "Airbus A320 NEO"
         },
         "airline": {
          "name": "Lufthansa"
         },
         "arrival": {
          "quality": [
           "Basic"
          ],
          "scheduledTimeLocal": "2021-11-25 18:10+01:00",
          "scheduledTimeUtc": "2021-11-25 17:10Z",
          "terminal": "1"
         },
         "codeshareStatus": "IsCodeshared",
         "departure": {
          "airport": {
           "iata": "MUC",
           "icao": "EDDM",
           "name": "Munich"
          },
          "quality": [
           "Basic"
          ],
          "scheduledTimeLocal": "2021-11-25 17:00+01:00",
          "scheduledTimeUtc": "2021-11-25 16:00Z",
          "terminal": "2"
         },
         "isCargo": false,
         "number": "LH 1948",
         "status": "Unknown"
        },
        {
         "aircraft": {
          "model": "Airbus A220-300"
         },
         "airline": {
          "name": "SWISS"
         },
         "arrival": {
          "quality": [
           "Basic"
          ],
          "scheduledTimeLocal": "2021-11-25 18:55+01:00",
          "scheduledTimeUtc": "2021-11-25 17:55Z",
          "terminal": "1"
         },
         "codeshareStatus": "Unknown",
         "departure": {
          "actualTimeLocal": "2021-11-25 17:30+01:00",
          "actualTimeUtc": "2021-11-25 16:30Z",
          "airport": {
           "iata": "ZRH",
           "icao": "LSZH",
           "name": "Zurich"
          },
          "checkInDesk": "1",
          "quality": [
           "Basic",
           "Live"
          ],
          "scheduledTimeLocal": "2021-11-25 17:30+01:00",
          "scheduledTimeUtc": "2021-11-25 16:30Z"
         },
         "isCargo": false,
         "number": "LX 970",
         "status": "Unknown"
        },
        {
         "aircraft": {
          "model": "Airbus A320"
         },
         "airline": {
          "name": "Austrian"
         },
         "arrival": {
          "quality": [
           "Basic"
          ],
          "scheduledTimeLocal": "2021-11-25 18:40+01:00",
          "scheduledTimeUtc": "2021-11-25 17:40Z",
          "terminal": "1"
         },
         "codeshareStatus": "Unknown",
         "departure": {
          "actualTimeLocal": "2021-11-25 17:25+01:00",
          "actualTimeUtc": "2021-11-25 16:25Z",
          "airport": {
           "iata": "VIE",
           "icao": "LOWW",
           "name": "Vienna"
          },
          "checkInDesk": "351-378",
          "quality": [
           "Basic",
           "Live"
          ],
          "scheduledTimeLocal": "2021-11-25 17:25+01:00",
          "scheduledTimeUtc": "2021-11-25 16:25Z",
          "terminal": "T3"
         },
         "isCargo": false,
         "number": "OS 235",
         "status": "Unknown"
        },
        {
         "aircraft": {
          "model": "Airbus A319"
         },
         "airline": {
          "name": "easyJet"
         },
         "arrival": {
          "quality": [
           "Basic"
          ],
          "scheduledTimeLocal": "2021-11-25 18:10+01:00",
          "scheduledTimeUtc": "2021-11-25 17:10Z",
          "terminal": "1"
         },
         "codeshareStatus": "Unknown",
         "departure": {
          "airport": {
           "name": "Amsterdam"
          },
          "quality": []
         },
         "isCargo": false,
         "number": "U2 5106",
         "status": "Unknown"
        },
        {
         "aircraft": {
          "model": "Airbus A320"
         },
         "airline": {
          "name": "Wizz Air"
         },
         "arrival": {
          "quality": [
           "Basic"
          ],
          "scheduledTimeLocal": "2021-11-25 18:45+01:00",
          "scheduledTimeUtc": "2021-11-25 17:45Z",
          "terminal": "0"
         },
         "codeshareStatus": "Unknown",
         "departure": {
          "airport": {
           "iata": "IEV",
           "icao": "UKKK",
           "name": "Kiev"
          },
          "quality": [
           "Basic"
          ],
          "scheduledTimeLocal": "2021-11-25 17:30+02:00",
          "scheduledTimeUtc": "2021-11-25 15:30Z",
          "terminal": "A"
         },
         "isCargo": false,
         "number": "W6 6113",
         "status": "Unknown"
        },
        {
         "aircraft": {
          "model": "Airbus A318"
         },
         "airline": {
          "name": "Air France"
         },
         "arrival": {
          "quality": [
           "Basic"
          ],
          "scheduledTimeLocal": "2021-11-25 19:35+01:00",
          "scheduledTimeUtc": "2021-11-25 18:35Z",
          "terminal": "1"
         },
         "codeshareStatus": "Unknown",
         "departure": {
          "airport": {
           "iata": "CDG",
           "icao": "LFPG",
           "name": "Paris"
          },
          "quality": [
           "Basic"
          ],
          "scheduledTimeLocal": "2021-11-25 17:50+01:00",
          "scheduledTimeUtc": "2021-11-25 16:50Z",
          "terminal": "2F"
         },
         "isCargo": false,
         "number": "AF 1534",
         "status": "Unknown"
        },
        {
         "aircraft": {
          "model": "Embraer 190"
         },
         "airline": {
          "name": "British Airways"
         },
         "arrival": {
          "quality": [
           "Basic"
          ],
          "scheduledTimeLocal": "2021-11-25 19:30+01:00",
          "scheduledTimeUtc": "2021-11-25 18:30Z",
          "terminal": "1"
         },
         "codeshareStatus": "IsCodeshared",
         "departure": {
          "airport": {
           "iata": "LCY",
           "icao": "EGLC",
           "name": "London"
          },
          "quality": [
           "Basic"
          ],
          "scheduledTimeLocal": "2021-11-25 16:45+00:00",
          "scheduledTimeUtc": "2021-11-25 16:45Z"
         },
         "isCargo": false,
         "number": "BA 8743",
         "status": "Unknown"
        },
        {
         "aircraft": {
          "model": "Airbus A220-300"
         },
         "airline": {
          "name": "Air Baltic"
         },
         "arrival": {
          "quality": [
           "Basic"
          ],
          "scheduledTimeLocal": "2021-11-25 19:00+01:00",
          "scheduledTimeUtc": "2021-11-25 18:00Z",
          "terminal": "1"
         },
         "codeshareStatus": "Unknown",
         "departure": {
          "actualTimeLocal": "2021-11-25 18:20+02:00",
          "actualTimeUtc": "2021-11-25 16:20Z",
          "airport": {
           "iata": "RIX",
           "icao": "EVRA",
           "name": "Riga"
          },
          "quality": [
           "Basic",
           "Live"
          ],
          "scheduledTimeLocal": "2021-11-25 18:20+02:00",
          "scheduledTimeUtc": "2021-11-25 16:20Z"
         },
         "isCargo": false,
         "number": "BT 213",
         "status": "Unknown"
        },
        {
         "aircraft": {
          "model": "ATR 72"
         },
         "airline": {
          "name": "Danish Air"
         },
         "arrival": {
          "quality": [
           "Basic"
          ],
          "scheduledTimeLocal": "2021-11-25 19:10+01:00",
          "scheduledTimeUtc": "2021-11-25 18:10Z",
          "terminal": "0"
         },
         "codeshareStatus": "Unknown",
         "departure": {
          "airport": {
           "iata": "SCN",
           "icao": "EDDR",
           "name": "Saarbrücken"
          },
          "quality": [
           "Basic"
          ],
          "scheduledTimeLocal": "2021-11-25 17:40+01:00",
          "scheduledTimeUtc": "2021-11-25 16:40Z"
         },
         "isCargo": false,
         "number": "DX 125",
         "status": "Unknown"
        },
        {
         "aircraft": {
          "model": "Boeing 737-800"
         },
         "airline": {
          "name": "Norwegian Air Shuttle"
         },
         "arrival": {
          "quality": [
           "Basic"
          ],
          "scheduledTimeLocal": "2021-11-25 19:35+01:00",
          "scheduledTimeUtc": "2021-11-25 18:35Z",
          "terminal": "1"
         },
         "codeshareStatus": "Unknown",
         "departure": {
          "airport": {
           "iata": "OSL",
           "icao": "ENGM",
           "name": "Oslo"
          },
          "checkInDesk": "23",
          "quality": [
           "Basic"
          ],
          "scheduledTimeLocal": "2021-11-25 18:00+01:00",
          "scheduledTimeUtc": "2021-11-25 17:00Z"
         },
         "isCargo": false,
         "number": "DY 1108",
         "status": "Unknown"
        },
        {
         "aircraft": {
          "model": "Boeing 737-800"
         },
         "airline": {
          "name": "Ryanair"
         },
         "arrival": {
          "quality": [
           "Basic"
          ],
          "scheduledTimeLocal": "2021-11-25 19:55+01:00",
          "scheduledTimeUtc": "2021-11-25 18:55Z"
         },
         "codeshareStatus": "Unknown",
         "departure": {
          "airport": {
           "iata": "CIA",
           "icao": "LIRA",
           "name": "Roma"
          },
          "quality": [
           "Basic"
          ],
          "scheduledTimeLocal": "2021-11-25 17:45+01:00",
          "scheduledTimeUtc": "2021-11-25 16:45Z"
         },
         "isCargo": false,
         "number": "FR 141",
         "status": "Unknown"
        },
        {
         "aircraft": {
          "model": "Boeing 737-800"
         },
         "airline": {
          "name": "Ryanair"
         },
         "arrival": {
          "quality": [
           "Basic"
          ],
          "scheduledTimeLocal": "2021-11-25 19:40+01:00",
          "scheduledTimeUtc": "2021-11-25 18:40Z"
         },
         "codeshareStatus": "Unknown",
         "departure": {
          "actualTimeLocal": "2021-11-25 16:05+01:00",
          "actualTimeUtc": "2021-11-25 15:05Z",
          "airport": {
           "iata": "AGP",
           "icao": "LEMG",
           "name": "Málaga"
          },
          "quality": [
           "Basic",
           "Live"
          ],
          "scheduledTimeLocal": "2021-11-25 16:05+01:00",
          "scheduledTimeUtc": "2021-11-25 15:05Z"
         },
         "isCargo": false,
         "number": "FR 2591",
         "status": "Unknown"
        },
        {
         "aircraft": {
          "model": "Boeing 737-800"
         },
         "airline": {
          "name": "Ryanair"
         },
         "arrival": {
          "quality": [
           "Basic"
          ],
          "scheduledTimeLocal": "2021-11-25 19:10+01:00",
          "scheduledTimeUtc": "2021-11-25 18:10Z"
         },
         "codeshareStatus": "Unknown",
         "departure": {
          "airport": {
           "iata": "TLL",
           "icao": "EETN",
           "name": "Tallinn"
          },
          "quality": [
           "Basic"
          ],
          "scheduledTimeLocal": "2021-11-25 18:10+02:00",
          "scheduledTimeUtc": "2021-11-25 16:10Z"
         },
         "isCargo": false,
         "number": "FR 2733",
         "status": "Unknown"
        },
        {
         "aircraft": {
          "model": "Airbus A320"
         },
         "airline": {
          "name": "Iberia"
         },
         "arrival": {
          "quality": [
           "Basic"
          ],
          "scheduledTimeLocal": "2021-11-25 19:05+01:00",
          "scheduledTimeUtc": "2021-11-25 18:05Z",
          "terminal": "1"
         },
         "codeshareStatus": "Unknown",
         "departure": {
          "actualTimeLocal": "2021-11-25 16:00+01:00",
          "actualTimeUtc": "2021-11-25 15:00Z",
          "airport": {
           "iata": "MAD",
           "icao": "LEMD",
           "name": "Madrid"
          },
          "quality": [
           "Basic",
           "Live"
          ],
          "scheduledTimeLocal": "2021-11-25 16:00+01:00",
          "scheduledTimeUtc": "2021-11-25 15:00Z",
          "terminal": "4"
         },
         "isCargo": false,
         "number": "IB 3672",
         "status": "Unknown"
        },
        {
         "aircraft": {
          "model": "Airbus A320"
         },
         "airline": {
          "name": "Lufthansa"
         },
         "arrival": {
          "quality": [
           "Basic"
          ],
          "scheduledTimeLocal": "2021-11-25 19:55+01:00",
          "scheduledTimeUtc": "2021-11-25 18:55Z",
          "terminal": "1"
         },
         "codeshareStatus": "IsCodeshared",
         "departure": {
          "actualTimeLocal": "2021-11-25 18:45+01:00",
          "actualTimeUtc": "2021-11-25 17:45Z",
          "airport": {
           "iata": "FRA",
           "icao": "EDDF",
           "name": "Frankfurt-am-Main"
          },
          "quality": [
           "Basic",
           "Live"
          ],
          "scheduledTimeLocal": "2021-11-25 18:45+01:00",
          "scheduledTimeUtc": "2021-11-25 17:45Z",
          "terminal": "1"
         },
         "isCargo": false,
         "number": "LH 190",
         "status": "Unknown"
        },
        {
         "aircraft": {
          "model": "Airbus A320"
         },
         "airline": {
          "name": "Lufthansa"
         },
         "arrival": {
          "quality": [
           "Basic"
          ],
          "scheduledTimeLocal": "2021-11-25 19:15+01:00",
          "scheduledTimeUtc": "2021-11-25 18:15Z",
          "terminal": "1"
         },
         "codeshareStatus": "Unknown",
         "departure": {
          "airport": {
           "iata": "MUC",
           "icao": "EDDM",
           "name": "Munich"
          },
          "quality": [
           "Basic"
          ],
          "scheduledTimeLocal": "2021-11-25 18:05+01:00",
          "scheduledTimeUtc": "2021-11-25 17:05Z",
          "terminal": "2"
         },
         "isCargo": false,
         "number": "LH 2330",
         "status": "Unknown"
        },
        {
         "aircraft": {
          "model": "Airbus A320 NEO"
         },
         "airline": {
          "name": "SWISS"
         },
         "arrival": {
          "quality": [
           "Basic"
          ],
          "scheduledTimeLocal": "2021-11-25 19:45+01:00",
          "scheduledTimeUtc": "2021-11-25 18:45Z",
          "terminal": "1"
         },
         "codeshareStatus": "Unknown",
         "departure": {
          "actualTimeLocal": "2021-11-25 18:20+01:00",
          "actualTimeUtc": "2021-11-25 17:20Z",
          "airport": {
           "iata": "ZRH",
           "icao": "LSZH",
           "name": "Zurich"
          },
          "checkInDesk": "1",
          "quality": [
           "Basic",
           "Live"
          ],
          "scheduledTimeLocal": "2021-11-25 18:20+01:00",
          "scheduledTimeUtc": "2021-11-25 17:20Z"
         },
         "isCargo": false,
         "number": "LX 978",
         "status": "Unknown"
        },
        {
         "aircraft": {
          "model": "Boeing 737-800"
         },
         "airline": {
          "name": "El Al"
         },
         "arrival": {
          "quality": [
           "Basic"
          ],
          "scheduledTimeLocal": "2021-11-25 19:50+01:00",
          "scheduledTimeUtc": "2021-11-25 18:50Z",
          "terminal": "1"
         },
         "codeshareStatus": "Unknown",
         "departure": {
          "airport": {
           "iata": "TLV",
           "icao": "LLBG",
           "name": "Tel Aviv Yafo"
          },
          "quality": [
           "Basic"
          ],
          "scheduledTimeLocal": "2021-11-25 16:20+02:00",
          "scheduledTimeUtc": "2021-11-25 14:20Z",
          "terminal": "3"
         },
         "isCargo": false,
         "number": "LY 2373",
         "status": "Unknown"
        },
        {
         "aircraft": {
          "model": "Airbus A320"
         },
         "airline": {
          "name": "easyJet"
         },
         "arrival": {
          "quality": [
           "Basic"
          ],
          "scheduledTimeLocal": "2021-11-25 19:00+01:00",
          "scheduledTimeUtc": "2021-11-25 18:00Z",
          "terminal": "1"
         },
         "codeshareStatus": "Unknown",
         "departure": {
          "airport": {
           "iata": "FUE",
           "icao": "GCFV",
           "name": "Fuerteventura Island"
          },
          "quality": [
           "Basic"
          ],
          "scheduledTimeLocal": "2021-11-25 13:00+00:00",
          "scheduledTimeUtc": "2021-11-25 13:00Z"
         },
         "isCargo": false,
         "number": "U2 5924",
         "status": "Unknown"
        },
        {
         "aircraft": {
          "model": "Airbus A320"
         },
         "airline": {
          "name": "Ghodawat Enterprises"
         },
         "arrival": {
          "quality": [
           "Basic"
          ],
          "scheduledTimeLocal": "2021-11-25 20:00+01:00",
          "scheduledTimeUtc": "2021-11-25 19:00Z",
          "terminal": "1"
         },
         "codeshareStatus": "Unknown",
         "departure": {
          "airport": {
           "iata": "KEF",
           "icao": "BIKF",
           "name": "Reykjavik"
          },
          "quality": [
           "Basic"
          ],
          "scheduledTimeLocal": "2021-11-25 15:20+00:00",
          "scheduledTimeUtc": "2021-11-25 15:20Z"
         },
         "isCargo": false,
         "number": "OG 704",
         "status": "Unknown"
        }
       ]
      },
      "text/plain": [
       "<IPython.core.display.JSON object>"
      ]
     },
     "execution_count": 2,
     "metadata": {
      "application/json": {
       "expanded": false,
       "root": "root"
      }
     },
     "output_type": "execute_result"
    }
   ],
   "source": [
    "from IPython.display import JSON\n",
    "JSON(response.json())"
   ]
  },
  {
   "cell_type": "code",
   "execution_count": 34,
   "id": "ac8c71a8-5e56-4b31-bd54-c892030d0631",
   "metadata": {
    "tags": []
   },
   "outputs": [
    {
     "data": {
      "text/html": [
       "<div>\n",
       "<style scoped>\n",
       "    .dataframe tbody tr th:only-of-type {\n",
       "        vertical-align: middle;\n",
       "    }\n",
       "\n",
       "    .dataframe tbody tr th {\n",
       "        vertical-align: top;\n",
       "    }\n",
       "\n",
       "    .dataframe thead th {\n",
       "        text-align: right;\n",
       "    }\n",
       "</style>\n",
       "<table border=\"1\" class=\"dataframe\">\n",
       "  <thead>\n",
       "    <tr style=\"text-align: right;\">\n",
       "      <th></th>\n",
       "      <th>dep_airport</th>\n",
       "      <th>scheduled_arrival_time</th>\n",
       "      <th>flight</th>\n",
       "      <th>airline</th>\n",
       "      <th>status</th>\n",
       "      <th>aircraft</th>\n",
       "    </tr>\n",
       "  </thead>\n",
       "  <tbody>\n",
       "    <tr>\n",
       "      <th>0</th>\n",
       "      <td>Paris</td>\n",
       "      <td>2021-11-25 08:55+01:00</td>\n",
       "      <td>AF 7354</td>\n",
       "      <td>Air France</td>\n",
       "      <td>Unknown</td>\n",
       "      <td>Airbus A320</td>\n",
       "    </tr>\n",
       "    <tr>\n",
       "      <th>1</th>\n",
       "      <td>Saarbrücken</td>\n",
       "      <td>2021-11-25 08:55+01:00</td>\n",
       "      <td>DX 121</td>\n",
       "      <td>Danish Air</td>\n",
       "      <td>Unknown</td>\n",
       "      <td>ATR 72</td>\n",
       "    </tr>\n",
       "    <tr>\n",
       "      <th>2</th>\n",
       "      <td>Pisa</td>\n",
       "      <td>2021-11-25 08:55+01:00</td>\n",
       "      <td>FR 9955</td>\n",
       "      <td>Ryanair</td>\n",
       "      <td>Unknown</td>\n",
       "      <td>Boeing 737-800</td>\n",
       "    </tr>\n",
       "    <tr>\n",
       "      <th>3</th>\n",
       "      <td>Luxembourg</td>\n",
       "      <td>2021-11-25 08:55+01:00</td>\n",
       "      <td>LG 9471</td>\n",
       "      <td>Luxair</td>\n",
       "      <td>Unknown</td>\n",
       "      <td>Bombardier Dash 8 Q400 / DHC-8-400</td>\n",
       "    </tr>\n",
       "    <tr>\n",
       "      <th>4</th>\n",
       "      <td>Frankfurt-am-Main</td>\n",
       "      <td>2021-11-25 08:55+01:00</td>\n",
       "      <td>LH 174</td>\n",
       "      <td>Lufthansa</td>\n",
       "      <td>Unknown</td>\n",
       "      <td>Airbus A320</td>\n",
       "    </tr>\n",
       "    <tr>\n",
       "      <th>...</th>\n",
       "      <td>...</td>\n",
       "      <td>...</td>\n",
       "      <td>...</td>\n",
       "      <td>...</td>\n",
       "      <td>...</td>\n",
       "      <td>...</td>\n",
       "    </tr>\n",
       "    <tr>\n",
       "      <th>126</th>\n",
       "      <td>Fuerteventura Island</td>\n",
       "      <td>2021-11-25 08:55+01:00</td>\n",
       "      <td>U2 5924</td>\n",
       "      <td>easyJet</td>\n",
       "      <td>Unknown</td>\n",
       "      <td>Airbus A320</td>\n",
       "    </tr>\n",
       "    <tr>\n",
       "      <th>127</th>\n",
       "      <td>Reykjavik</td>\n",
       "      <td>2021-11-25 08:55+01:00</td>\n",
       "      <td>OG 704</td>\n",
       "      <td>Ghodawat Enterprises</td>\n",
       "      <td>Unknown</td>\n",
       "      <td>Airbus A320</td>\n",
       "    </tr>\n",
       "    <tr>\n",
       "      <th>128</th>\n",
       "      <td>Munich</td>\n",
       "      <td>2021-11-25 08:55+01:00</td>\n",
       "      <td>LH 1948</td>\n",
       "      <td>Lufthansa</td>\n",
       "      <td>Unknown</td>\n",
       "      <td>Airbus A320 NEO</td>\n",
       "    </tr>\n",
       "    <tr>\n",
       "      <th>129</th>\n",
       "      <td>Zurich</td>\n",
       "      <td>2021-11-25 08:55+01:00</td>\n",
       "      <td>LX 970</td>\n",
       "      <td>SWISS</td>\n",
       "      <td>Unknown</td>\n",
       "      <td>Airbus A220-300</td>\n",
       "    </tr>\n",
       "    <tr>\n",
       "      <th>130</th>\n",
       "      <td>Vienna</td>\n",
       "      <td>2021-11-25 08:55+01:00</td>\n",
       "      <td>OS 235</td>\n",
       "      <td>Austrian</td>\n",
       "      <td>Unknown</td>\n",
       "      <td>Airbus A320</td>\n",
       "    </tr>\n",
       "  </tbody>\n",
       "</table>\n",
       "<p>131 rows × 6 columns</p>\n",
       "</div>"
      ],
      "text/plain": [
       "              dep_airport  scheduled_arrival_time   flight  \\\n",
       "0                   Paris  2021-11-25 08:55+01:00  AF 7354   \n",
       "1             Saarbrücken  2021-11-25 08:55+01:00   DX 121   \n",
       "2                    Pisa  2021-11-25 08:55+01:00  FR 9955   \n",
       "3              Luxembourg  2021-11-25 08:55+01:00  LG 9471   \n",
       "4       Frankfurt-am-Main  2021-11-25 08:55+01:00   LH 174   \n",
       "..                    ...                     ...      ...   \n",
       "126  Fuerteventura Island  2021-11-25 08:55+01:00  U2 5924   \n",
       "127             Reykjavik  2021-11-25 08:55+01:00   OG 704   \n",
       "128                Munich  2021-11-25 08:55+01:00  LH 1948   \n",
       "129                Zurich  2021-11-25 08:55+01:00   LX 970   \n",
       "130                Vienna  2021-11-25 08:55+01:00   OS 235   \n",
       "\n",
       "                  airline   status                            aircraft  \n",
       "0              Air France  Unknown                         Airbus A320  \n",
       "1              Danish Air  Unknown                              ATR 72  \n",
       "2                 Ryanair  Unknown                      Boeing 737-800  \n",
       "3                  Luxair  Unknown  Bombardier Dash 8 Q400 / DHC-8-400  \n",
       "4               Lufthansa  Unknown                         Airbus A320  \n",
       "..                    ...      ...                                 ...  \n",
       "126               easyJet  Unknown                         Airbus A320  \n",
       "127  Ghodawat Enterprises  Unknown                         Airbus A320  \n",
       "128             Lufthansa  Unknown                     Airbus A320 NEO  \n",
       "129                 SWISS  Unknown                     Airbus A220-300  \n",
       "130              Austrian  Unknown                         Airbus A320  \n",
       "\n",
       "[131 rows x 6 columns]"
      ]
     },
     "execution_count": 34,
     "metadata": {},
     "output_type": "execute_result"
    }
   ],
   "source": [
    "arrivals_Berlin = response.json()['arrivals']\n",
    "departure_airport, scheduled_arrival_local_time, terminal, flight_number, status, aircraft, airline = [], [], [], [], [], [], []\n",
    "\n",
    "for arrival in arrivals_Berlin: \n",
    "    departure_airport.append(arrival['departure']['airport']['name'])\n",
    "    scheduled_arrival_local_time.append(arrivals['arrival']['scheduledTimeLocal'])\n",
    "    try: terminal.append(arrival['arrival']['terminal'])\n",
    "    except: teminal = None\n",
    "    flight_number.append(arrival['number'])\n",
    "    status.append(arrival['status'])\n",
    "    try: aircraft.append(arrival['aircraft']['model'])\n",
    "    except: aircraft = None\n",
    "    airline.append(arrival['airline']['name'])\n",
    "           \n",
    "import pandas as pd\n",
    "flight_schedule = pd.DataFrame({'dep_airport': departure_airport, \n",
    "                                'scheduled_arrival_time': scheduled_arrival_local_time, \n",
    "                                #'terminal': terminal, \n",
    "                                'flight': flight_number,\n",
    "                                'airline': airline,\n",
    "                                'status': status, \n",
    "                                'aircraft': aircraft \n",
    "                                })\n",
    "\n",
    "flight_schedule"
   ]
  },
  {
   "cell_type": "code",
   "execution_count": null,
   "id": "8cd5997e-edf4-40bc-ae24-1d20e2d233db",
   "metadata": {},
   "outputs": [],
   "source": [
    "#to get date of tomorrow\n",
    "today = datetime.date.today()\n",
    "tomorrow = str(today + datetime.timedelta(days=1))"
   ]
  },
  {
   "cell_type": "code",
   "execution_count": 32,
   "id": "74471f8d-6ce4-4342-b403-da27c6d05374",
   "metadata": {},
   "outputs": [],
   "source": [
    "airport_icoa = \"EDDB\"\n",
    "to_local_time = \"2021-10-04T20:00\"\n",
    "from_local_time = \"2021-10-05T08:00\"\n",
    "\n",
    "url = f\"https://aerodatabox.p.rapidapi.com/flights/airports/icao/{airport_icoa}/{to_local_time}/{from_local_time}\"\n",
    "\n",
    "querystring = {\"withLeg\":\"true\",\"withCancelled\":\"true\",\"withCodeshared\":\"true\",\"withCargo\":\"true\",\"withPrivate\":\"false\",\"withLocation\":\"false\"}"
   ]
  },
  {
   "cell_type": "code",
   "execution_count": 72,
   "id": "3f9ea909-ea87-46fb-a4bc-443d038bff4e",
   "metadata": {},
   "outputs": [
    {
     "data": {
      "text/html": [
       "<div>\n",
       "<style scoped>\n",
       "    .dataframe tbody tr th:only-of-type {\n",
       "        vertical-align: middle;\n",
       "    }\n",
       "\n",
       "    .dataframe tbody tr th {\n",
       "        vertical-align: top;\n",
       "    }\n",
       "\n",
       "    .dataframe thead th {\n",
       "        text-align: right;\n",
       "    }\n",
       "</style>\n",
       "<table border=\"1\" class=\"dataframe\">\n",
       "  <thead>\n",
       "    <tr style=\"text-align: right;\">\n",
       "      <th></th>\n",
       "      <th>dep_airport</th>\n",
       "      <th>sched_arr_loc_time</th>\n",
       "      <th>terminal</th>\n",
       "      <th>status</th>\n",
       "      <th>aircraft</th>\n",
       "    </tr>\n",
       "  </thead>\n",
       "  <tbody>\n",
       "    <tr>\n",
       "      <th>0</th>\n",
       "      <td>Saarbrücken</td>\n",
       "      <td>2021-11-25 08:10+01:00</td>\n",
       "      <td>0</td>\n",
       "      <td>Unknown</td>\n",
       "      <td>ATR 72</td>\n",
       "    </tr>\n",
       "    <tr>\n",
       "      <th>1</th>\n",
       "      <td>Munich</td>\n",
       "      <td>2021-11-25 08:10+01:00</td>\n",
       "      <td>1</td>\n",
       "      <td>Unknown</td>\n",
       "      <td>Airbus A320 NEO</td>\n",
       "    </tr>\n",
       "    <tr>\n",
       "      <th>2</th>\n",
       "      <td>Luxembourg</td>\n",
       "      <td>2021-11-25 08:15+01:00</td>\n",
       "      <td>1</td>\n",
       "      <td>Unknown</td>\n",
       "      <td>Bombardier Dash 8 Q400 / DHC-8-400</td>\n",
       "    </tr>\n",
       "    <tr>\n",
       "      <th>3</th>\n",
       "      <td>Pisa</td>\n",
       "      <td>2021-11-25 08:45+01:00</td>\n",
       "      <td>None</td>\n",
       "      <td>Unknown</td>\n",
       "      <td>Boeing 737-800</td>\n",
       "    </tr>\n",
       "    <tr>\n",
       "      <th>4</th>\n",
       "      <td>Zurich</td>\n",
       "      <td>2021-11-25 08:45+01:00</td>\n",
       "      <td>1</td>\n",
       "      <td>Unknown</td>\n",
       "      <td>Airbus A320</td>\n",
       "    </tr>\n",
       "    <tr>\n",
       "      <th>...</th>\n",
       "      <td>...</td>\n",
       "      <td>...</td>\n",
       "      <td>...</td>\n",
       "      <td>...</td>\n",
       "      <td>...</td>\n",
       "    </tr>\n",
       "    <tr>\n",
       "      <th>126</th>\n",
       "      <td>Zurich</td>\n",
       "      <td>2021-11-25 19:45+01:00</td>\n",
       "      <td>1</td>\n",
       "      <td>Unknown</td>\n",
       "      <td>Airbus A320 NEO</td>\n",
       "    </tr>\n",
       "    <tr>\n",
       "      <th>127</th>\n",
       "      <td>Tel Aviv Yafo</td>\n",
       "      <td>2021-11-25 19:50+01:00</td>\n",
       "      <td>1</td>\n",
       "      <td>Unknown</td>\n",
       "      <td>Boeing 737-800</td>\n",
       "    </tr>\n",
       "    <tr>\n",
       "      <th>128</th>\n",
       "      <td>Roma</td>\n",
       "      <td>2021-11-25 19:55+01:00</td>\n",
       "      <td>None</td>\n",
       "      <td>Unknown</td>\n",
       "      <td>Boeing 737-800</td>\n",
       "    </tr>\n",
       "    <tr>\n",
       "      <th>129</th>\n",
       "      <td>Frankfurt-am-Main</td>\n",
       "      <td>2021-11-25 19:55+01:00</td>\n",
       "      <td>1</td>\n",
       "      <td>Unknown</td>\n",
       "      <td>Airbus A320</td>\n",
       "    </tr>\n",
       "    <tr>\n",
       "      <th>130</th>\n",
       "      <td>Reykjavik</td>\n",
       "      <td>2021-11-25 20:00+01:00</td>\n",
       "      <td>1</td>\n",
       "      <td>Unknown</td>\n",
       "      <td>Airbus A320</td>\n",
       "    </tr>\n",
       "  </tbody>\n",
       "</table>\n",
       "<p>131 rows × 5 columns</p>\n",
       "</div>"
      ],
      "text/plain": [
       "           dep_airport      sched_arr_loc_time terminal   status  \\\n",
       "0          Saarbrücken  2021-11-25 08:10+01:00        0  Unknown   \n",
       "1               Munich  2021-11-25 08:10+01:00        1  Unknown   \n",
       "2           Luxembourg  2021-11-25 08:15+01:00        1  Unknown   \n",
       "3                 Pisa  2021-11-25 08:45+01:00     None  Unknown   \n",
       "4               Zurich  2021-11-25 08:45+01:00        1  Unknown   \n",
       "..                 ...                     ...      ...      ...   \n",
       "126             Zurich  2021-11-25 19:45+01:00        1  Unknown   \n",
       "127      Tel Aviv Yafo  2021-11-25 19:50+01:00        1  Unknown   \n",
       "128               Roma  2021-11-25 19:55+01:00     None  Unknown   \n",
       "129  Frankfurt-am-Main  2021-11-25 19:55+01:00        1  Unknown   \n",
       "130          Reykjavik  2021-11-25 20:00+01:00        1  Unknown   \n",
       "\n",
       "                               aircraft  \n",
       "0                                ATR 72  \n",
       "1                       Airbus A320 NEO  \n",
       "2    Bombardier Dash 8 Q400 / DHC-8-400  \n",
       "3                        Boeing 737-800  \n",
       "4                           Airbus A320  \n",
       "..                                  ...  \n",
       "126                     Airbus A320 NEO  \n",
       "127                      Boeing 737-800  \n",
       "128                      Boeing 737-800  \n",
       "129                         Airbus A320  \n",
       "130                         Airbus A320  \n",
       "\n",
       "[131 rows x 5 columns]"
      ]
     },
     "execution_count": 72,
     "metadata": {},
     "output_type": "execute_result"
    }
   ],
   "source": [
    "arrivals_berlin = response.json()['arrivals']\n",
    "\n",
    "def get_flight_info(flight_json):\n",
    "    # terminal\n",
    "    try:\n",
    "        terminal = flight_json['arrival']['terminal']\n",
    "    except:\n",
    "        terminal = None\n",
    "    # aircraft\n",
    "    try: \n",
    "        aircraft = flight_json['aircraft']['model']\n",
    "    except: \n",
    "        aircraft = None\n",
    "    \n",
    "    \n",
    "    return {\n",
    "        'dep_airport':flight_json['departure']['airport']['name'],\n",
    "        'sched_arr_loc_time':flight_json['arrival']['scheduledTimeLocal'],\n",
    "        'terminal':terminal,\n",
    "        'status':flight_json['status'],\n",
    "        'aircraft':aircraft\n",
    "    }\n",
    "\n",
    "import pandas as pd\n",
    "pd.DataFrame([get_flight_info(flight) for flight in arrivals_berlin])"
   ]
  }
 ],
 "metadata": {
  "kernelspec": {
   "display_name": "Python 3",
   "language": "python",
   "name": "python3"
  },
  "language_info": {
   "codemirror_mode": {
    "name": "ipython",
    "version": 3
   },
   "file_extension": ".py",
   "mimetype": "text/x-python",
   "name": "python",
   "nbconvert_exporter": "python",
   "pygments_lexer": "ipython3",
   "version": "3.8.8"
  }
 },
 "nbformat": 4,
 "nbformat_minor": 5
}
